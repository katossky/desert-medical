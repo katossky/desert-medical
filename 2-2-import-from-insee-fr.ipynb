{
 "cells": [
  {
   "cell_type": "markdown",
   "source": "### Importation des identifiants des villes",
   "metadata": {
    "tags": [],
    "cell_id": "00000-33030e5c-f724-4435-acdb-4e08bc268dcc",
    "deepnote_cell_type": "markdown"
   }
  },
  {
   "cell_type": "code",
   "metadata": {
    "tags": [],
    "cell_id": "00000-e34d3af9-2d96-476e-bd06-410137f8c596",
    "deepnote_to_be_reexecuted": false,
    "source_hash": "36cc8e0",
    "execution_start": 1641117463238,
    "execution_millis": 13,
    "deepnote_cell_type": "code"
   },
   "source": "import pandas as pd\n\nmunicipalities = pd.read_csv(\n    'data/2-0-municipalities.csv',\n    index_col=0\n)\n\nmunicipalities",
   "execution_count": 31,
   "outputs": [
    {
     "output_type": "execute_result",
     "execution_count": 31,
     "data": {
      "application/vnd.deepnote.dataframe.v3+json": {
       "column_count": 1,
       "row_count": 314,
       "columns": [
        {
         "name": "name",
         "dtype": "object",
         "stats": {
          "unique_count": 314,
          "nan_count": 0,
          "categories": [
           {
            "name": "Abbeville",
            "count": 1
           },
           {
            "name": "Agen",
            "count": 1
           },
           {
            "name": "312 others",
            "count": 312
           }
          ]
         }
        },
        {
         "name": "_deepnote_index_column",
         "dtype": "object"
        }
       ],
       "rows": [
        {
         "name": "Abbeville",
         "_deepnote_index_column": "80001"
        },
        {
         "name": "Agen",
         "_deepnote_index_column": "47001"
        },
        {
         "name": "Aix-en-Provence",
         "_deepnote_index_column": "13001"
        },
        {
         "name": "Ajaccio",
         "_deepnote_index_column": "2A004"
        },
        {
         "name": "Albertville",
         "_deepnote_index_column": "73011"
        },
        {
         "name": "Albi",
         "_deepnote_index_column": "81004"
        },
        {
         "name": "Alençon",
         "_deepnote_index_column": "61001"
        },
        {
         "name": "Alès",
         "_deepnote_index_column": "30007"
        },
        {
         "name": "Altkirch",
         "_deepnote_index_column": "68004"
        },
        {
         "name": "Ambert",
         "_deepnote_index_column": "63003"
        }
       ]
      },
      "text/plain": "                          name\ninsee_code                    \n80001                Abbeville\n47001                     Agen\n13001          Aix-en-Provence\n2A004                  Ajaccio\n73011              Albertville\n...                        ...\n47323       Villeneuve-sur-Lot\n14762           Vire Normandie\n51649        Vitry-le-François\n08490                 Vouziers\n43268               Yssingeaux\n\n[314 rows x 1 columns]",
      "text/html": "<div>\n<style scoped>\n    .dataframe tbody tr th:only-of-type {\n        vertical-align: middle;\n    }\n\n    .dataframe tbody tr th {\n        vertical-align: top;\n    }\n\n    .dataframe thead th {\n        text-align: right;\n    }\n</style>\n<table border=\"1\" class=\"dataframe\">\n  <thead>\n    <tr style=\"text-align: right;\">\n      <th></th>\n      <th>name</th>\n    </tr>\n    <tr>\n      <th>insee_code</th>\n      <th></th>\n    </tr>\n  </thead>\n  <tbody>\n    <tr>\n      <th>80001</th>\n      <td>Abbeville</td>\n    </tr>\n    <tr>\n      <th>47001</th>\n      <td>Agen</td>\n    </tr>\n    <tr>\n      <th>13001</th>\n      <td>Aix-en-Provence</td>\n    </tr>\n    <tr>\n      <th>2A004</th>\n      <td>Ajaccio</td>\n    </tr>\n    <tr>\n      <th>73011</th>\n      <td>Albertville</td>\n    </tr>\n    <tr>\n      <th>...</th>\n      <td>...</td>\n    </tr>\n    <tr>\n      <th>47323</th>\n      <td>Villeneuve-sur-Lot</td>\n    </tr>\n    <tr>\n      <th>14762</th>\n      <td>Vire Normandie</td>\n    </tr>\n    <tr>\n      <th>51649</th>\n      <td>Vitry-le-François</td>\n    </tr>\n    <tr>\n      <th>08490</th>\n      <td>Vouziers</td>\n    </tr>\n    <tr>\n      <th>43268</th>\n      <td>Yssingeaux</td>\n    </tr>\n  </tbody>\n</table>\n<p>314 rows × 1 columns</p>\n</div>"
     },
     "metadata": {}
    }
   ]
  },
  {
   "cell_type": "markdown",
   "source": "### Importation depuis [insee.fr](https://insee.fr)\n\nLes pages du site qui donnent les statistiques commune par commune ont une URL standardisée de la forme:\n\n`https://www.insee.fr/fr/statistiques/2011101?geo=COM-...`\n\n... où `...` représente le code INSEE de la commune.\n\nPar ailleurs, ces pages sont structurées de façon identique, et il est donc possible via la bibliothèque `beautifulsoup` d'y aller piocher les informations utiles.\n\nCertains communes cependant, typiquement des communes de l'outre-mer, ont des pages avec des informations structuréee différemment. Avec une **gestion des erreurs** du type `try -> except`, nous testons donc si l'information est présente sur le site, et renvoyons une valeur manquante le cas échéant.\n\nLa fonction ci-dessous retourne les données pour **_une_** ville:",
   "metadata": {
    "tags": [],
    "cell_id": "00002-c5533ac1-b51e-479b-8236-072e7c0d7acf",
    "deepnote_cell_type": "markdown"
   }
  },
  {
   "cell_type": "code",
   "metadata": {
    "tags": [],
    "cell_id": "00003-85c3a6fd-e252-4079-b169-e1919f9204e2",
    "deepnote_to_be_reexecuted": false,
    "source_hash": "a6b3e7d8",
    "execution_start": 1640971307583,
    "execution_millis": 512,
    "deepnote_cell_type": "code"
   },
   "source": "from bs4 import BeautifulSoup\nfrom urllib.request import urlopen \n\ndef read_insee(insee_code):\n    \n    url = \"https://www.insee.fr/fr/statistiques/2011101?\"+\\\n        \"geo=COM-\"+insee_code\n\n    with urlopen(url) as page:\n\n        parsed_page = BeautifulSoup(page)\n        \n        # Part des 60 à 74 ans et des 75 ans ou plus\n\n        try:\n            age_table_rows = parsed_page.find(id=\"produit-tableau-POP_T0\").find_all('tr')\n            rate_60_74       = age_table_rows[6].find_all('td')[5].text.replace(\",\", \".\")\n            rate_75_and_over = age_table_rows[7].find_all('td')[5].text.replace(\",\", \".\")\n            rate_60_and_over = float(rate_60_74 ) + float( rate_75_and_over )\n            print(' ✅ rate', end=\"\")\n        except AttributeError :\n            # catches cases where the table is missing\n            print(' ❌ rate', end=\"\")\n            rate_60_and_over = pd.NA\n\n\n        # Médiane du revenu disponible par unité de consommation (en euros)\n        \n        try:\n            income_table_rows = parsed_page.find(id=\"produit-tableau-REV_T1\").find_all('tr')\n            median_income = income_table_rows[3].find('td').text.replace('\\xa0', '')\n            median_income = float( median_income )\n            print(' ✅ inco', end=\"\")\n        except AttributeError :\n            # catches cases where the table is missing\n            print(' ❌ inco', end=\"\")\n            median_income = pd.NA\n\n    return({\n        \"rate_60_and_over\" : rate_60_and_over,\n        \"median_income\" : median_income\n    })\n    ",
   "execution_count": null,
   "outputs": []
  },
  {
   "cell_type": "markdown",
   "source": "Démonstration sur la ville de Poitiers:",
   "metadata": {
    "tags": [],
    "cell_id": "00005-e36cae4c-cb64-4357-adc0-ef399e51bc09",
    "deepnote_cell_type": "markdown"
   }
  },
  {
   "cell_type": "code",
   "metadata": {
    "tags": [],
    "cell_id": "00004-fb19b8fc-bbc3-482f-80ef-658802daadd9",
    "deepnote_to_be_reexecuted": false,
    "source_hash": "3d77327a",
    "execution_start": 1640971314083,
    "execution_millis": 12620,
    "deepnote_output_heights": [
     null,
     21.1875
    ],
    "deepnote_cell_type": "code"
   },
   "source": "poitiers = municipalities[ municipalities[\"name\"]==\"Poitiers\" ]\ninsee_code_poitiers = poitiers.index[0]\nread_insee(insee_code_poitiers)",
   "execution_count": null,
   "outputs": [
    {
     "name": "stdout",
     "text": " ✅ rate ✅ inco",
     "output_type": "stream",
     "data": {}
    },
    {
     "output_type": "execute_result",
     "execution_count": 4,
     "data": {
      "text/plain": "{'rate_60_and_over': 20.1, 'median_income': 19000.0}"
     },
     "metadata": {}
    }
   ]
  },
  {
   "cell_type": "markdown",
   "source": "Ensuite il ne reste plus qu'à exécuter la fonction sur l'ensemble des communes ...",
   "metadata": {
    "tags": [],
    "cell_id": "00005-3f902156-b89c-47a5-bbb7-cdc43b252306",
    "deepnote_cell_type": "markdown"
   }
  },
  {
   "cell_type": "code",
   "metadata": {
    "tags": [],
    "cell_id": "00006-978fcf44-43bd-4465-a808-b321f69e877f",
    "deepnote_to_be_reexecuted": false,
    "source_hash": "67ebd058",
    "execution_start": 1640971328887,
    "execution_millis": 4770849,
    "deepnote_cell_type": "code"
   },
   "source": "# WARNING !!! TAKES ~1 HOUR TO RUN !!!\n\nsocio_economic = []\nfor insee_code, values in municipalities.iterrows() :\n    print('📍 '+ values[0].ljust(32), end='')\n    socio_economic.append( read_insee(insee_code) )\n    print(\"\")",
   "execution_count": null,
   "outputs": [
    {
     "name": "stdout",
     "text": "📍 Abbeville                        ✅ rate ✅ inco\n📍 Agen                             ✅ rate ✅ inco\n📍 Aix-en-Provence                  ✅ rate ✅ inco\n📍 Ajaccio                          ✅ rate ✅ inco\n📍 Albertville                      ✅ rate ✅ inco\n📍 Albi                             ✅ rate ✅ inco\n📍 Alençon                          ✅ rate ✅ inco\n📍 Alès                             ✅ rate ✅ inco\n📍 Altkirch                         ✅ rate ✅ inco\n📍 Ambert                           ✅ rate ✅ inco\n📍 Amiens                           ✅ rate ✅ inco\n📍 Ancenis-St-Géréon                ✅ rate ✅ inco\n📍 Angers                           ✅ rate ✅ inco\n📍 Angoulême                        ✅ rate ✅ inco\n📍 Annecy                           ✅ rate ✅ inco\n📍 Apt                              ✅ rate ✅ inco\n📍 Arcachon                         ✅ rate ✅ inco\n📍 Argelès-Gazost                   ✅ rate ✅ inco\n📍 Argentan                         ✅ rate ✅ inco\n📍 Argenteuil                       ✅ rate ✅ inco\n📍 Arles                            ✅ rate ✅ inco\n📍 Arras                            ✅ rate ✅ inco\n📍 Aubusson                         ✅ rate ✅ inco\n📍 Auch                             ✅ rate ✅ inco\n📍 Aurillac                         ✅ rate ✅ inco\n📍 Autun                            ✅ rate ✅ inco\n📍 Auxerre                          ✅ rate ✅ inco\n📍 Avallon                          ✅ rate ✅ inco\n📍 Avesnes-sur-Helpe                ✅ rate ✅ inco\n📍 Avignon                          ✅ rate ✅ inco\n📍 Avranches                        ✅ rate ✅ inco\n📍 Bagnères-de-Bigorre              ✅ rate ✅ inco\n📍 Bar-le-Duc                       ✅ rate ✅ inco\n📍 Bar-sur-Aube                     ✅ rate ✅ inco\n📍 Barcelonnette                    ✅ rate ✅ inco\n📍 Bastia                           ✅ rate ✅ inco\n📍 Bayeux                           ✅ rate ✅ inco\n📍 Bayonne                          ✅ rate ✅ inco\n📍 Beaune                           ✅ rate ✅ inco\n📍 Beauvais                         ✅ rate ✅ inco\n📍 Belfort                          ✅ rate ✅ inco\n📍 Bellac                           ✅ rate ✅ inco\n📍 Belley                           ✅ rate ✅ inco\n📍 Bergerac                         ✅ rate ✅ inco\n📍 Bernay                           ✅ rate ✅ inco\n📍 Besançon                         ✅ rate ✅ inco\n📍 Béthune                          ✅ rate ✅ inco\n📍 Béziers                          ✅ rate ✅ inco\n📍 Blaye                            ✅ rate ✅ inco\n📍 Blois                            ✅ rate ✅ inco\n📍 Bonneville                       ✅ rate ✅ inco\n📍 Bordeaux                         ✅ rate ✅ inco\n📍 Boulogne-sur-Mer                 ✅ rate ✅ inco\n📍 Bourg-en-Bresse                  ✅ rate ✅ inco\n📍 Bourges                          ✅ rate ✅ inco\n📍 Bressuire                        ✅ rate ✅ inco\n📍 Brest                            ✅ rate ✅ inco\n📍 Briançon                         ✅ rate ✅ inco\n📍 Brignoles                        ✅ rate ✅ inco\n📍 Brioude                          ✅ rate ✅ inco\n📍 Brive-la-Gaillarde               ✅ rate ✅ inco\n📍 Caen                             ✅ rate ✅ inco\n📍 Cahors                           ✅ rate ✅ inco\n📍 Calais                           ✅ rate ✅ inco\n📍 Calvi                            ✅ rate ✅ inco\n📍 Cambrai                          ✅ rate ✅ inco\n📍 Carcassonne                      ✅ rate ✅ inco\n📍 Carpentras                       ✅ rate ✅ inco\n📍 Castellane                       ✅ rate ✅ inco\n📍 Castelsarrasin                   ✅ rate ✅ inco\n📍 Castres                          ✅ rate ✅ inco\n📍 Céret                            ✅ rate ✅ inco\n📍 Cergy                            ✅ rate ✅ inco\n📍 Chalon-sur-Saône                 ✅ rate ✅ inco\n📍 Châlons-en-Champagne             ✅ rate ✅ inco\n📍 Chambéry                         ✅ rate ✅ inco\n📍 Charleville-Mézières             ✅ rate ✅ inco\n📍 Charolles                        ✅ rate ✅ inco\n📍 Chartres                         ✅ rate ✅ inco\n📍 Château-Chinon                   ✅ rate ✅ inco\n📍 Château-Gontier-sur-Mayenne      ✅ rate ✅ inco\n📍 Château-Thierry                  ✅ rate ✅ inco\n📍 Châteaubriant                    ✅ rate ✅ inco\n📍 Châteaudun                       ✅ rate ✅ inco\n📍 Châteaulin                       ✅ rate ✅ inco\n📍 Châteauroux                      ✅ rate ✅ inco\n📍 Châtellerault                    ✅ rate ✅ inco\n📍 Chaumont                         ✅ rate ✅ inco\n📍 Cherbourg-en-Cotentin            ✅ rate ✅ inco\n📍 Chinon                           ✅ rate ✅ inco\n📍 Cholet                           ✅ rate ✅ inco\n📍 Clamecy                          ✅ rate ✅ inco\n📍 Clermont                         ✅ rate ✅ inco\n📍 Clermont-Ferrand                 ✅ rate ✅ inco\n📍 Cognac                           ✅ rate ✅ inco\n📍 Colmar                           ✅ rate ✅ inco\n📍 Commercy                         ✅ rate ✅ inco\n📍 Compiègne                        ✅ rate ✅ inco\n📍 Condom                           ✅ rate ✅ inco\n📍 Confolens                        ✅ rate ✅ inco\n📍 Corte                            ✅ rate ✅ inco\n📍 Cosne-Cours-sur-Loire            ✅ rate ✅ inco\n📍 Coutances                        ✅ rate ✅ inco\n📍 Dax                              ✅ rate ✅ inco\n📍 Die                              ✅ rate ✅ inco\n📍 Dieppe                           ✅ rate ✅ inco\n📍 Digne-les-Bains                  ✅ rate ✅ inco\n📍 Dijon                            ✅ rate ✅ inco\n📍 Dinan                            ✅ rate ✅ inco\n📍 Dole                             ✅ rate ✅ inco\n📍 Douai                            ✅ rate ✅ inco\n📍 Draguignan                       ✅ rate ✅ inco\n📍 Dreux                            ✅ rate ✅ inco\n📍 Dunkerque                        ✅ rate ✅ inco\n📍 Épernay                          ✅ rate ✅ inco\n📍 Épinal                           ✅ rate ✅ inco\n📍 Étampes                          ✅ rate ✅ inco\n📍 Évreux                           ✅ rate ✅ inco\n📍 Évry-Courcouronnes               ✅ rate ✅ inco\n📍 Figeac                           ✅ rate ✅ inco\n📍 Florac Trois Rivières            ✅ rate ✅ inco\n📍 Foix                             ✅ rate ✅ inco\n📍 Fontainebleau                    ❌ rate ✅ inco\n📍 Fontenay-le-Comte                ✅ rate ✅ inco\n📍 Forbach                          ✅ rate ✅ inco\n📍 Forcalquier                      ✅ rate ✅ inco\n📍 Fougères                         ✅ rate ✅ inco\n📍 Gap                              ✅ rate ✅ inco\n📍 Gex                              ✅ rate ✅ inco\n📍 Gourdon                          ✅ rate ✅ inco\n📍 Grasse                           ✅ rate ✅ inco\n📍 Grenoble                         ✅ rate ✅ inco\n📍 Guéret                           ✅ rate ✅ inco\n📍 Guingamp                         ✅ rate ✅ inco\n📍 Haguenau                         ✅ rate ✅ inco\n📍 Issoire                          ✅ rate ✅ inco\n📍 Issoudun                         ✅ rate ✅ inco\n📍 Istres                           ✅ rate ✅ inco\n📍 Jonzac                           ❌ rate ✅ inco\n📍 La Châtre                        ✅ rate ✅ inco\n📍 La Flèche                        ✅ rate ✅ inco\n📍 La Roche-sur-Yon                 ✅ rate ✅ inco\n📍 La Rochelle                      ✅ rate ✅ inco\n📍 La Tour-du-Pin                   ✅ rate ✅ inco\n📍 Langon                           ✅ rate ✅ inco\n📍 Langres                          ✅ rate ✅ inco\n📍 Lannion                          ✅ rate ✅ inco\n📍 Laon                             ✅ rate ✅ inco\n📍 Largentière                      ✅ rate ✅ inco\n📍 Laval                            ❌ rate ✅ inco\n📍 Le Blanc                         ✅ rate ✅ inco\n📍 Le Havre                         ✅ rate ✅ inco\n📍 Le Mans                          ✅ rate ✅ inco\n📍 Le Puy-en-Velay                  ✅ rate ✅ inco\n📍 Le Vigan                         ✅ rate ✅ inco\n📍 Lens                             ✅ rate ✅ inco\n📍 Les Andelys                      ✅ rate ✅ inco\n📍 Les Sables-d'Olonne              ✅ rate ✅ inco\n📍 Lesparre-Médoc                   ✅ rate ✅ inco\n📍 Libourne                         ✅ rate ✅ inco\n📍 Lille                            ✅ rate ✅ inco\n📍 Limoges                          ✅ rate ✅ inco\n📍 Limoux                           ✅ rate ✅ inco\n📍 Lisieux                          ✅ rate ✅ inco\n📍 Loches                           ✅ rate ✅ inco\n📍 Lodève                           ✅ rate ✅ inco\n📍 Lons-le-Saunier                  ✅ rate ✅ inco\n📍 Lorient                          ✅ rate ✅ inco\n📍 Louhans                          ✅ rate ✅ inco\n📍 Lunéville                        ✅ rate ✅ inco\n📍 Lure                             ✅ rate ✅ inco\n📍 Lyon                             ✅ rate ✅ inco\n📍 Mâcon                            ✅ rate ✅ inco\n📍 Mamers                           ✅ rate ✅ inco\n📍 Mantes-la-Jolie                  ✅ rate ✅ inco\n📍 Marmande                         ✅ rate ✅ inco\n📍 Marseille                        ✅ rate ✅ inco\n📍 Mauriac                          ✅ rate ✅ inco\n📍 Mayenne                          ✅ rate ✅ inco\n📍 Meaux                            ✅ rate ✅ inco\n📍 Melun                            ✅ rate ✅ inco\n📍 Mende                            ✅ rate ✅ inco\n📍 Metz                             ✅ rate ✅ inco\n📍 Millau                           ✅ rate ✅ inco\n📍 Mirande                          ✅ rate ✅ inco\n📍 Molsheim                         ✅ rate ✅ inco\n📍 Mont-de-Marsan                   ✅ rate ✅ inco\n📍 Montargis                        ✅ rate ✅ inco\n📍 Montauban                        ✅ rate ✅ inco\n📍 Montbard                         ✅ rate ✅ inco\n📍 Montbéliard                      ✅ rate ✅ inco\n📍 Montbrison                       ✅ rate ✅ inco\n📍 Montdidier                       ✅ rate ✅ inco\n📍 Montluçon                        ✅ rate ✅ inco\n📍 Montmorillon                     ✅ rate ✅ inco\n📍 Montpellier                      ✅ rate ✅ inco\n📍 Montreuil                        ✅ rate ✅ inco\n📍 Morlaix                          ✅ rate ✅ inco\n📍 Mortagne-au-Perche               ✅ rate ✅ inco\n📍 Moulins                          ✅ rate ✅ inco\n📍 Mulhouse                         ✅ rate ✅ inco\n📍 Muret                            ✅ rate ✅ inco\n📍 Nancy                            ✅ rate ✅ inco\n📍 Nantes                           ✅ rate ✅ inco\n📍 Nantua                           ✅ rate ✅ inco\n📍 Narbonne                         ✅ rate ✅ inco\n📍 Nérac                            ✅ rate ✅ inco\n📍 Neufchâteau                      ✅ rate ✅ inco\n📍 Nevers                           ✅ rate ✅ inco\n📍 Nice                             ✅ rate ✅ inco\n📍 Nîmes                            ✅ rate ✅ inco\n📍 Niort                            ✅ rate ✅ inco\n📍 Nogent-le-Rotrou                 ✅ rate ✅ inco\n📍 Nogent-sur-Seine                 ✅ rate ✅ inco\n📍 Nontron                          ✅ rate ✅ inco\n📍 Nyons                            ✅ rate ✅ inco\n📍 Oloron-Sainte-Marie              ✅ rate ✅ inco\n📍 Orléans                          ❌ rate ✅ inco\n📍 Palaiseau                        ✅ rate ✅ inco\n📍 Pamiers                          ✅ rate ✅ inco\n📍 Paris                            ✅ rate ✅ inco\n📍 Parthenay                        ✅ rate ✅ inco\n📍 Pau                              ✅ rate ✅ inco\n📍 Périgueux                        ✅ rate ✅ inco\n📍 Péronne                          ✅ rate ✅ inco\n📍 Perpignan                        ✅ rate ✅ inco\n📍 Pithiviers                       ✅ rate ✅ inco\n📍 Poitiers                         ✅ rate ✅ inco\n📍 Pontarlier                       ✅ rate ✅ inco\n📍 Pontivy                          ✅ rate ✅ inco\n📍 Pontoise                         ✅ rate ✅ inco\n📍 Prades                           ✅ rate ✅ inco\n📍 Privas                           ✅ rate ✅ inco\n📍 Provins                          ✅ rate ✅ inco\n📍 Quimper                          ✅ rate ✅ inco\n📍 Rambouillet                      ✅ rate ✅ inco\n📍 Redon                            ✅ rate ✅ inco\n📍 Reims                            ✅ rate ✅ inco\n📍 Rennes                           ✅ rate ✅ inco\n📍 Rethel                           ✅ rate ✅ inco\n📍 Riom                             ✅ rate ✅ inco\n📍 Roanne                           ✅ rate ✅ inco\n📍 Rochechouart                     ✅ rate ✅ inco\n📍 Rochefort                        ✅ rate ✅ inco\n📍 Rodez                            ✅ rate ✅ inco\n📍 Romorantin-Lanthenay             ✅ rate ✅ inco\n📍 Rouen                            ✅ rate ✅ inco\n📍 Saint-Amand-Montrond             ✅ rate ✅ inco\n📍 Saint-Brieuc                     ✅ rate ✅ inco\n📍 Saint-Claude                     ✅ rate ✅ inco\n📍 Saint-Dié-des-Vosges             ✅ rate ✅ inco\n📍 Saint-Dizier                     ✅ rate ✅ inco\n📍 Saint-Étienne                    ✅ rate ✅ inco\n📍 Saint-Flour                      ✅ rate ✅ inco\n📍 Saint-Gaudens                    ✅ rate ✅ inco\n📍 Saint-Germain-en-Laye            ✅ rate ✅ inco\n📍 Saint-Girons                     ✅ rate ✅ inco\n📍 Saint-Jean-d'Angély              ✅ rate ✅ inco\n📍 Saint-Jean-de-Maurienne          ✅ rate ✅ inco\n📍 Saint-Julien-en-Genevois         ✅ rate ✅ inco\n📍 Saint-Lô                         ✅ rate ✅ inco\n📍 Saint-Malo                       ✅ rate ✅ inco\n📍 Saint-Nazaire                    ✅ rate ✅ inco\n📍 Saint-Omer                       ✅ rate ✅ inco\n📍 Saint-Quentin                    ✅ rate ✅ inco\n📍 Sainte-Menehould                 ✅ rate ✅ inco\n📍 Saintes                          ✅ rate ✅ inco\n📍 Sarcelles                        ✅ rate ✅ inco\n📍 Sarlat-la-Canéda                 ✅ rate ✅ inco\n📍 Sarrebourg                       ✅ rate ✅ inco\n📍 Sarreguemines                    ✅ rate ✅ inco\n📍 Sartène                          ✅ rate ✅ inco\n📍 Saumur                           ✅ rate ✅ inco\n📍 Saverne                          ✅ rate ✅ inco\n📍 Sedan                            ✅ rate ✅ inco\n📍 Segré-en-Anjou Bleu              ✅ rate ✅ inco\n📍 Sélestat                         ✅ rate ✅ inco\n📍 Senlis                           ✅ rate ✅ inco\n📍 Sens                             ✅ rate ✅ inco\n📍 Soissons                         ✅ rate ✅ inco\n📍 Strasbourg                       ❌ rate ✅ inco\n📍 Tarbes                           ✅ rate ✅ inco\n📍 Thann                            ✅ rate ✅ inco\n📍 Thiers                           ✅ rate ✅ inco\n📍 Thionville                       ✅ rate ✅ inco\n📍 Thonon-les-Bains                 ✅ rate ✅ inco\n📍 Torcy                            ✅ rate ✅ inco\n📍 Toul                             ✅ rate ✅ inco\n📍 Toulon                           ❌ rate ✅ inco\n📍 Toulouse                         ✅ rate ✅ inco\n📍 Tournon-sur-Rhône                ✅ rate ✅ inco\n📍 Tours                            ✅ rate ✅ inco\n📍 Troyes                           ✅ rate ✅ inco\n📍 Tulle                            ✅ rate ✅ inco\n📍 Ussel                            ✅ rate ✅ inco\n📍 Val de Briey                     ✅ rate ✅ inco\n📍 Valence                          ✅ rate ✅ inco\n📍 Valenciennes                     ❌ rate ✅ inco\n📍 Vannes                           ✅ rate ✅ inco\n📍 Vendôme                          ✅ rate ✅ inco\n📍 Verdun                           ✅ rate ✅ inco\n📍 Versailles                       ✅ rate ✅ inco\n📍 Vervins                          ✅ rate ✅ inco\n📍 Vesoul                           ✅ rate ✅ inco\n📍 Vichy                            ✅ rate ✅ inco\n📍 Vienne                           ✅ rate ✅ inco\n📍 Vierzon                          ✅ rate ✅ inco\n📍 Villefranche-de-Rouergue         ✅ rate ✅ inco\n📍 Villefranche-sur-Saône           ✅ rate ✅ inco\n📍 Villeneuve-sur-Lot               ✅ rate ✅ inco\n📍 Vire Normandie                   ✅ rate ✅ inco\n📍 Vitry-le-François                ✅ rate ✅ inco\n📍 Vouziers                         ✅ rate ✅ inco\n📍 Yssingeaux                       ✅ rate ✅ inco\n",
     "output_type": "stream",
     "data": {}
    }
   ]
  },
  {
   "cell_type": "markdown",
   "source": "... puis à convertir le résultat en tableau de données :",
   "metadata": {
    "tags": [],
    "cell_id": "00010-46954a8b-350b-4933-b439-4e82e7c87aaa",
    "deepnote_cell_type": "markdown"
   }
  },
  {
   "cell_type": "code",
   "metadata": {
    "tags": [],
    "cell_id": "00009-3f36910c-74f5-48b9-a2c7-e352cf54918d",
    "deepnote_to_be_reexecuted": false,
    "source_hash": "efee5adb",
    "execution_start": 1640976099755,
    "execution_millis": 242,
    "deepnote_output_heights": [
     251.4375
    ],
    "deepnote_cell_type": "code"
   },
   "source": "socio_economic_df = pd.DataFrame(socio_economic)\nsocio_economic_df.set_index(municipalities.index, inplace=True)\nsocio_economic_df.to_csv(\"data/2-2-socio-economic-from-insee.csv\")",
   "execution_count": null,
   "outputs": []
  },
  {
   "cell_type": "markdown",
   "source": "### Vérification",
   "metadata": {
    "tags": [],
    "cell_id": "00011-0006cdc4-be00-42ed-b19d-4b64aa3f4bd8",
    "deepnote_cell_type": "markdown"
   }
  },
  {
   "cell_type": "code",
   "source": "import pandas as pd\nsocio_economic_df = pd.read_csv(\"data/2-2-socio-economic-from-insee.csv\", index_col=0)\nsocio_economic_df\n",
   "metadata": {
    "tags": [],
    "cell_id": "00011-b268da52-0ab4-4fcb-bf02-813721f68fe5",
    "deepnote_to_be_reexecuted": false,
    "source_hash": "b32242c",
    "execution_start": 1641117235179,
    "execution_millis": 161,
    "deepnote_output_heights": [
     117.125
    ],
    "deepnote_cell_type": "code"
   },
   "outputs": [
    {
     "output_type": "execute_result",
     "execution_count": 25,
     "data": {
      "application/vnd.deepnote.dataframe.v3+json": {
       "column_count": 2,
       "row_count": 314,
       "columns": [
        {
         "name": "rate_60_and_over",
         "dtype": "float64",
         "stats": {
          "unique_count": 186,
          "nan_count": 7,
          "min": "11.9",
          "max": "57.3",
          "histogram": [
           {
            "bin_start": 11.9,
            "bin_end": 16.44,
            "count": 8
           },
           {
            "bin_start": 16.44,
            "bin_end": 20.98,
            "count": 21
           },
           {
            "bin_start": 20.98,
            "bin_end": 25.520000000000003,
            "count": 50
           },
           {
            "bin_start": 25.520000000000003,
            "bin_end": 30.060000000000002,
            "count": 100
           },
           {
            "bin_start": 30.060000000000002,
            "bin_end": 34.6,
            "count": 60
           },
           {
            "bin_start": 34.6,
            "bin_end": 39.14,
            "count": 43
           },
           {
            "bin_start": 39.14,
            "bin_end": 43.68,
            "count": 17
           },
           {
            "bin_start": 43.68,
            "bin_end": 48.22,
            "count": 7
           },
           {
            "bin_start": 48.22,
            "bin_end": 52.76,
            "count": 0
           },
           {
            "bin_start": 52.76,
            "bin_end": 57.3,
            "count": 1
           }
          ]
         }
        },
        {
         "name": "median_income",
         "dtype": "float64",
         "stats": {
          "unique_count": 247,
          "nan_count": 0,
          "min": "15140.0",
          "max": "32900.0",
          "histogram": [
           {
            "bin_start": 15140,
            "bin_end": 16916,
            "count": 18
           },
           {
            "bin_start": 16916,
            "bin_end": 18692,
            "count": 75
           },
           {
            "bin_start": 18692,
            "bin_end": 20468,
            "count": 142
           },
           {
            "bin_start": 20468,
            "bin_end": 22244,
            "count": 58
           },
           {
            "bin_start": 22244,
            "bin_end": 24020,
            "count": 9
           },
           {
            "bin_start": 24020,
            "bin_end": 25796,
            "count": 4
           },
           {
            "bin_start": 25796,
            "bin_end": 27572,
            "count": 3
           },
           {
            "bin_start": 27572,
            "bin_end": 29348,
            "count": 1
           },
           {
            "bin_start": 29348,
            "bin_end": 31124,
            "count": 0
           },
           {
            "bin_start": 31124,
            "bin_end": 32900,
            "count": 4
           }
          ]
         }
        },
        {
         "name": "_deepnote_index_column",
         "dtype": "object"
        }
       ],
       "rows": [
        {
         "rate_60_and_over": 29.8,
         "median_income": 17910,
         "_deepnote_index_column": "80001"
        },
        {
         "rate_60_and_over": 24.1,
         "median_income": 18180,
         "_deepnote_index_column": "47001"
        },
        {
         "rate_60_and_over": 24.4,
         "median_income": 24340,
         "_deepnote_index_column": "13001"
        },
        {
         "rate_60_and_over": 28.6,
         "median_income": 21480,
         "_deepnote_index_column": "2A004"
        },
        {
         "rate_60_and_over": 28.3,
         "median_income": 19740,
         "_deepnote_index_column": "73011"
        },
        {
         "rate_60_and_over": 31.9,
         "median_income": 20360,
         "_deepnote_index_column": "81004"
        },
        {
         "rate_60_and_over": 29.4,
         "median_income": 18200,
         "_deepnote_index_column": "61001"
        },
        {
         "rate_60_and_over": 32.5,
         "median_income": 16830,
         "_deepnote_index_column": "30007"
        },
        {
         "rate_60_and_over": 25.1,
         "median_income": 22610,
         "_deepnote_index_column": "68004"
        },
        {
         "rate_60_and_over": 36.5,
         "median_income": 20860,
         "_deepnote_index_column": "63003"
        }
       ]
      },
      "text/plain": "            rate_60_and_over  median_income\ninsee_code                                 \n80001                   29.8        17910.0\n47001                   24.1        18180.0\n13001                   24.4        24340.0\n2A004                   28.6        21480.0\n73011                   28.3        19740.0\n...                      ...            ...\n47323                   36.7        18420.0\n14762                   34.7        20430.0\n51649                   30.6        16650.0\n08490                   35.9        19440.0\n43268                   28.8        21340.0\n\n[314 rows x 2 columns]",
      "text/html": "<div>\n<style scoped>\n    .dataframe tbody tr th:only-of-type {\n        vertical-align: middle;\n    }\n\n    .dataframe tbody tr th {\n        vertical-align: top;\n    }\n\n    .dataframe thead th {\n        text-align: right;\n    }\n</style>\n<table border=\"1\" class=\"dataframe\">\n  <thead>\n    <tr style=\"text-align: right;\">\n      <th></th>\n      <th>rate_60_and_over</th>\n      <th>median_income</th>\n    </tr>\n    <tr>\n      <th>insee_code</th>\n      <th></th>\n      <th></th>\n    </tr>\n  </thead>\n  <tbody>\n    <tr>\n      <th>80001</th>\n      <td>29.8</td>\n      <td>17910.0</td>\n    </tr>\n    <tr>\n      <th>47001</th>\n      <td>24.1</td>\n      <td>18180.0</td>\n    </tr>\n    <tr>\n      <th>13001</th>\n      <td>24.4</td>\n      <td>24340.0</td>\n    </tr>\n    <tr>\n      <th>2A004</th>\n      <td>28.6</td>\n      <td>21480.0</td>\n    </tr>\n    <tr>\n      <th>73011</th>\n      <td>28.3</td>\n      <td>19740.0</td>\n    </tr>\n    <tr>\n      <th>...</th>\n      <td>...</td>\n      <td>...</td>\n    </tr>\n    <tr>\n      <th>47323</th>\n      <td>36.7</td>\n      <td>18420.0</td>\n    </tr>\n    <tr>\n      <th>14762</th>\n      <td>34.7</td>\n      <td>20430.0</td>\n    </tr>\n    <tr>\n      <th>51649</th>\n      <td>30.6</td>\n      <td>16650.0</td>\n    </tr>\n    <tr>\n      <th>08490</th>\n      <td>35.9</td>\n      <td>19440.0</td>\n    </tr>\n    <tr>\n      <th>43268</th>\n      <td>28.8</td>\n      <td>21340.0</td>\n    </tr>\n  </tbody>\n</table>\n<p>314 rows × 2 columns</p>\n</div>"
     },
     "metadata": {}
    }
   ],
   "execution_count": 25
  },
  {
   "cell_type": "code",
   "source": "_deepnote_run_altair(socio_economic_df, \"\"\"{\"$schema\":\"https://vega.github.io/schema/vega-lite/v4.json\",\"mark\":{\"type\":\"point\",\"tooltip\":{\"content\":\"data\"}},\"height\":220,\"autosize\":{\"type\":\"fit\"},\"data\":{\"name\":\"placeholder\"},\"encoding\":{\"x\":{\"field\":\"rate_60_and_over\",\"type\":\"quantitative\",\"sort\":null,\"scale\":{\"type\":\"linear\",\"zero\":false}},\"y\":{\"field\":\"median_income\",\"type\":\"quantitative\",\"sort\":null,\"scale\":{\"type\":\"sqrt\",\"zero\":false}},\"color\":{\"field\":\"\",\"type\":\"nominal\",\"sort\":null,\"scale\":{\"type\":\"linear\",\"zero\":false}}}}\"\"\")",
   "metadata": {
    "cell_id": "00013-04d39bbc-2253-4e72-951c-2327408e68c4",
    "deepnote_variable_name": "socio_economic_df",
    "deepnote_visualization_spec": {
     "$schema": "https://vega.github.io/schema/vega-lite/v4.json",
     "mark": {
      "type": "point",
      "tooltip": {
       "content": "data"
      }
     },
     "height": 220,
     "autosize": {
      "type": "fit"
     },
     "data": {
      "name": "placeholder"
     },
     "encoding": {
      "x": {
       "field": "rate_60_and_over",
       "type": "quantitative",
       "sort": null,
       "scale": {
        "type": "linear",
        "zero": false
       }
      },
      "y": {
       "field": "median_income",
       "type": "quantitative",
       "sort": null,
       "scale": {
        "type": "sqrt",
        "zero": false
       }
      },
      "color": {
       "field": "",
       "type": "nominal",
       "sort": null,
       "scale": {
        "type": "linear",
        "zero": false
       }
      }
     }
    },
    "deepnote_to_be_reexecuted": false,
    "source_hash": "fa0b0781",
    "execution_start": 1641117288860,
    "execution_millis": 97,
    "deepnote_output_heights": [
     314
    ],
    "deepnote_cell_type": "visualization"
   },
   "outputs": [
    {
     "output_type": "execute_result",
     "execution_count": 30,
     "data": {
      "text/html": "\n<div id=\"altair-viz-9e96748762da49c1a9f1ed8fb6dbaaf8\"></div>\n<script type=\"text/javascript\">\n  (function(spec, embedOpt){\n    let outputDiv = document.currentScript.previousElementSibling;\n    if (outputDiv.id !== \"altair-viz-9e96748762da49c1a9f1ed8fb6dbaaf8\") {\n      outputDiv = document.getElementById(\"altair-viz-9e96748762da49c1a9f1ed8fb6dbaaf8\");\n    }\n    const paths = {\n      \"vega\": \"https://cdn.jsdelivr.net/npm//vega@5?noext\",\n      \"vega-lib\": \"https://cdn.jsdelivr.net/npm//vega-lib?noext\",\n      \"vega-lite\": \"https://cdn.jsdelivr.net/npm//vega-lite@4.8.1?noext\",\n      \"vega-embed\": \"https://cdn.jsdelivr.net/npm//vega-embed@6?noext\",\n    };\n\n    function loadScript(lib) {\n      return new Promise(function(resolve, reject) {\n        var s = document.createElement('script');\n        s.src = paths[lib];\n        s.async = true;\n        s.onload = () => resolve(paths[lib]);\n        s.onerror = () => reject(`Error loading script: ${paths[lib]}`);\n        document.getElementsByTagName(\"head\")[0].appendChild(s);\n      });\n    }\n\n    function showError(err) {\n      outputDiv.innerHTML = `<div class=\"error\" style=\"color:red;\">${err}</div>`;\n      throw err;\n    }\n\n    function displayChart(vegaEmbed) {\n      vegaEmbed(outputDiv, spec, embedOpt)\n        .catch(err => showError(`Javascript Error: ${err.message}<br>This usually means there's a typo in your chart specification. See the javascript console for the full traceback.`));\n    }\n\n    if(typeof define === \"function\" && define.amd) {\n      requirejs.config({paths});\n      require([\"vega-embed\"], displayChart, err => showError(`Error loading script: ${err.message}`));\n    } else if (typeof vegaEmbed === \"function\") {\n      displayChart(vegaEmbed);\n    } else {\n      loadScript(\"vega\")\n        .then(() => loadScript(\"vega-lite\"))\n        .then(() => loadScript(\"vega-embed\"))\n        .catch(showError)\n        .then(() => displayChart(vegaEmbed));\n    }\n  })({\"config\": {\"view\": {\"continuousWidth\": 400, \"continuousHeight\": 300}, \"area\": {\"fill\": \"#51C0E9\"}, \"axis\": {\"labelFont\": \"Inter, sans-serif\", \"labelFontSize\": 12, \"labelFontWeight\": \"normal\", \"labelLimit\": 60, \"labelOverlap\": \"greedy\", \"titleFont\": \"Inter, sans-serif\", \"titleFontSize\": 12, \"titleFontWeight\": \"bold\"}, \"background\": \"#ffffff\", \"legend\": {\"labelFont\": \"Inter, sans-serif\", \"labelFontSize\": 12, \"titleFont\": \"Inter, sans-serif\", \"titleFontSize\": 12, \"titleFontWeight\": \"bold\"}, \"line\": {\"stroke\": \"#51C0E9\", \"strokeWidth\": 2}, \"rect\": {\"fill\": \"#51C0E9\"}, \"title\": {\"anchor\": \"start\", \"color\": \"#000000\", \"font\": \"Inter, sans-serif\", \"fontSize\": 22, \"fontWeight\": \"normal\"}}, \"data\": {\"name\": \"data-2bf71cd67037cbed0a3192fba491203c\"}, \"mark\": {\"type\": \"point\", \"tooltip\": {\"content\": \"data\"}}, \"autosize\": {\"type\": \"fit\"}, \"encoding\": {\"color\": {\"type\": \"nominal\", \"field\": \"\", \"scale\": {\"type\": \"linear\", \"zero\": false}, \"sort\": null}, \"x\": {\"type\": \"quantitative\", \"field\": \"rate_60_and_over\", \"scale\": {\"type\": \"linear\", \"zero\": false}, \"sort\": null}, \"y\": {\"type\": \"quantitative\", \"field\": \"median_income\", \"scale\": {\"type\": \"sqrt\", \"zero\": false}, \"sort\": null}}, \"height\": 300, \"width\": \"container\", \"$schema\": \"https://vega.github.io/schema/vega-lite/v4.json\", \"datasets\": {\"data-2bf71cd67037cbed0a3192fba491203c\": [{\"rate_60_and_over\": 29.8, \"median_income\": 17910.0}, {\"rate_60_and_over\": 24.1, \"median_income\": 18180.0}, {\"rate_60_and_over\": 24.4, \"median_income\": 24340.0}, {\"rate_60_and_over\": 28.6, \"median_income\": 21480.0}, {\"rate_60_and_over\": 28.3, \"median_income\": 19740.0}, {\"rate_60_and_over\": 31.9, \"median_income\": 20360.0}, {\"rate_60_and_over\": 29.4, \"median_income\": 18200.0}, {\"rate_60_and_over\": 32.5, \"median_income\": 16830.0}, {\"rate_60_and_over\": 25.1, \"median_income\": 22610.0}, {\"rate_60_and_over\": 36.5, \"median_income\": 20860.0}, {\"rate_60_and_over\": 19.7, \"median_income\": 18550.0}, {\"rate_60_and_over\": 27.9, \"median_income\": 21460.0}, {\"rate_60_and_over\": 22.4, \"median_income\": 20100.0}, {\"rate_60_and_over\": 25.1, \"median_income\": 18850.0}, {\"rate_60_and_over\": 25.8, \"median_income\": 24830.0}, {\"rate_60_and_over\": 32.900000000000006, \"median_income\": 17620.0}, {\"rate_60_and_over\": 57.3, \"median_income\": 24920.0}, {\"rate_60_and_over\": 44.7, \"median_income\": 20780.0}, {\"rate_60_and_over\": 32.6, \"median_income\": 18410.0}, {\"rate_60_and_over\": 16.9, \"median_income\": 18270.0}, {\"rate_60_and_over\": 32.0, \"median_income\": 18770.0}, {\"rate_60_and_over\": 21.7, \"median_income\": 18870.0}, {\"rate_60_and_over\": 43.0, \"median_income\": 18040.0}, {\"rate_60_and_over\": 32.8, \"median_income\": 20240.0}, {\"rate_60_and_over\": 32.6, \"median_income\": 20700.0}, {\"rate_60_and_over\": 37.1, \"median_income\": 18940.0}, {\"rate_60_and_over\": 28.7, \"median_income\": 19040.0}, {\"rate_60_and_over\": 34.1, \"median_income\": 18450.0}, {\"rate_60_and_over\": 26.8, \"median_income\": 15140.0}, {\"rate_60_and_over\": 23.9, \"median_income\": 16580.0}, {\"rate_60_and_over\": 33.8, \"median_income\": 20850.0}, {\"rate_60_and_over\": 43.4, \"median_income\": 19430.0}, {\"rate_60_and_over\": 30.200000000000003, \"median_income\": 19860.0}, {\"rate_60_and_over\": 35.7, \"median_income\": 18330.0}, {\"rate_60_and_over\": 33.1, \"median_income\": 19500.0}, {\"rate_60_and_over\": 25.7, \"median_income\": 19100.0}, {\"rate_60_and_over\": 36.5, \"median_income\": 19860.0}, {\"rate_60_and_over\": 26.3, \"median_income\": 20040.0}, {\"rate_60_and_over\": 30.9, \"median_income\": 21300.0}, {\"rate_60_and_over\": 22.3, \"median_income\": 18470.0}, {\"rate_60_and_over\": 23.6, \"median_income\": 18230.0}, {\"rate_60_and_over\": 44.4, \"median_income\": 18650.0}, {\"rate_60_and_over\": 28.700000000000003, \"median_income\": 19900.0}, {\"rate_60_and_over\": 38.2, \"median_income\": 18700.0}, {\"rate_60_and_over\": 36.7, \"median_income\": 19480.0}, {\"rate_60_and_over\": 23.2, \"median_income\": 19570.0}, {\"rate_60_and_over\": 23.4, \"median_income\": 17730.0}, {\"rate_60_and_over\": 28.8, \"median_income\": 16030.0}, {\"rate_60_and_over\": 27.3, \"median_income\": 18600.0}, {\"rate_60_and_over\": 26.0, \"median_income\": 18500.0}, {\"rate_60_and_over\": 17.6, \"median_income\": 23700.0}, {\"rate_60_and_over\": 18.8, \"median_income\": 23070.0}, {\"rate_60_and_over\": 24.2, \"median_income\": 16590.0}, {\"rate_60_and_over\": 28.3, \"median_income\": 19180.0}, {\"rate_60_and_over\": 29.4, \"median_income\": 20560.0}, {\"rate_60_and_over\": 27.1, \"median_income\": 20380.0}, {\"rate_60_and_over\": 22.0, \"median_income\": 20240.0}, {\"rate_60_and_over\": 28.1, \"median_income\": 20450.0}, {\"rate_60_and_over\": 26.3, \"median_income\": 18550.0}, {\"rate_60_and_over\": 38.7, \"median_income\": 19230.0}, {\"rate_60_and_over\": 34.0, \"median_income\": 19980.0}, {\"rate_60_and_over\": 22.8, \"median_income\": 20450.0}, {\"rate_60_and_over\": 34.4, \"median_income\": 20450.0}, {\"rate_60_and_over\": 21.8, \"median_income\": 16710.0}, {\"rate_60_and_over\": 22.0, \"median_income\": 18970.0}, {\"rate_60_and_over\": 28.1, \"median_income\": 18400.0}, {\"rate_60_and_over\": 30.3, \"median_income\": 18110.0}, {\"rate_60_and_over\": 29.4, \"median_income\": 17430.0}, {\"rate_60_and_over\": 38.7, \"median_income\": 19900.0}, {\"rate_60_and_over\": 28.9, \"median_income\": 18450.0}, {\"rate_60_and_over\": 32.0, \"median_income\": 19490.0}, {\"rate_60_and_over\": 40.400000000000006, \"median_income\": 20540.0}, {\"rate_60_and_over\": 11.9, \"median_income\": 19410.0}, {\"rate_60_and_over\": 28.4, \"median_income\": 18520.0}, {\"rate_60_and_over\": 24.5, \"median_income\": 19270.0}, {\"rate_60_and_over\": 24.1, \"median_income\": 20620.0}, {\"rate_60_and_over\": 28.4, \"median_income\": 17500.0}, {\"rate_60_and_over\": 38.7, \"median_income\": 20280.0}, {\"rate_60_and_over\": 27.5, \"median_income\": 21600.0}, {\"rate_60_and_over\": 37.2, \"median_income\": 17760.0}, {\"rate_60_and_over\": 33.400000000000006, \"median_income\": 21110.0}, {\"rate_60_and_over\": 26.8, \"median_income\": 18020.0}, {\"rate_60_and_over\": 34.3, \"median_income\": 19150.0}, {\"rate_60_and_over\": 29.8, \"median_income\": 18640.0}, {\"rate_60_and_over\": 28.0, \"median_income\": 20630.0}, {\"rate_60_and_over\": 30.0, \"median_income\": 19320.0}, {\"rate_60_and_over\": 32.9, \"median_income\": 19260.0}, {\"rate_60_and_over\": 28.8, \"median_income\": 20360.0}, {\"rate_60_and_over\": 26.8, \"median_income\": 21160.0}, {\"rate_60_and_over\": 36.3, \"median_income\": 20750.0}, {\"rate_60_and_over\": 28.0, \"median_income\": 20830.0}, {\"rate_60_and_over\": 38.6, \"median_income\": 17610.0}, {\"rate_60_and_over\": 22.4, \"median_income\": 20590.0}, {\"rate_60_and_over\": 21.5, \"median_income\": 19460.0}, {\"rate_60_and_over\": 29.1, \"median_income\": 20480.0}, {\"rate_60_and_over\": 25.1, \"median_income\": 19850.0}, {\"rate_60_and_over\": 31.0, \"median_income\": 17860.0}, {\"rate_60_and_over\": 24.4, \"median_income\": 19860.0}, {\"rate_60_and_over\": 41.0, \"median_income\": 18530.0}, {\"rate_60_and_over\": 44.5, \"median_income\": 20200.0}, {\"rate_60_and_over\": 19.8, \"median_income\": 19560.0}, {\"rate_60_and_over\": 41.6, \"median_income\": 19990.0}, {\"rate_60_and_over\": 31.5, \"median_income\": 19210.0}, {\"rate_60_and_over\": 35.6, \"median_income\": 19310.0}, {\"rate_60_and_over\": 36.6, \"median_income\": 20100.0}, {\"rate_60_and_over\": 34.7, \"median_income\": 17810.0}, {\"rate_60_and_over\": 33.0, \"median_income\": 20230.0}, {\"rate_60_and_over\": 22.7, \"median_income\": 21650.0}, {\"rate_60_and_over\": 37.0, \"median_income\": 21780.0}, {\"rate_60_and_over\": 31.6, \"median_income\": 19890.0}, {\"rate_60_and_over\": 23.4, \"median_income\": 17590.0}, {\"rate_60_and_over\": 28.2, \"median_income\": 20380.0}, {\"rate_60_and_over\": 21.9, \"median_income\": 17170.0}, {\"rate_60_and_over\": 27.6, \"median_income\": 19090.0}, {\"rate_60_and_over\": 27.7, \"median_income\": 19380.0}, {\"rate_60_and_over\": 26.7, \"median_income\": 19030.0}, {\"rate_60_and_over\": 17.9, \"median_income\": 19210.0}, {\"rate_60_and_over\": 22.3, \"median_income\": 17630.0}, {\"rate_60_and_over\": 14.9, \"median_income\": 18050.0}, {\"rate_60_and_over\": 33.8, \"median_income\": 21240.0}, {\"rate_60_and_over\": 33.6, \"median_income\": 19870.0}, {\"rate_60_and_over\": 32.9, \"median_income\": 20160.0}, {\"rate_60_and_over\": null, \"median_income\": 25470.0}, {\"rate_60_and_over\": 38.5, \"median_income\": 19990.0}, {\"rate_60_and_over\": 26.6, \"median_income\": 16660.0}, {\"rate_60_and_over\": 36.5, \"median_income\": 19520.0}, {\"rate_60_and_over\": 32.099999999999994, \"median_income\": 19430.0}, {\"rate_60_and_over\": 29.9, \"median_income\": 21160.0}, {\"rate_60_and_over\": 14.2, \"median_income\": 32900.0}, {\"rate_60_and_over\": 47.2, \"median_income\": 19860.0}, {\"rate_60_and_over\": 25.8, \"median_income\": 21850.0}, {\"rate_60_and_over\": 19.7, \"median_income\": 21050.0}, {\"rate_60_and_over\": 32.1, \"median_income\": 19840.0}, {\"rate_60_and_over\": 26.9, \"median_income\": 17360.0}, {\"rate_60_and_over\": 24.5, \"median_income\": 21720.0}, {\"rate_60_and_over\": 29.5, \"median_income\": 20690.0}, {\"rate_60_and_over\": 36.0, \"median_income\": 19850.0}, {\"rate_60_and_over\": 25.200000000000003, \"median_income\": 21720.0}, {\"rate_60_and_over\": null, \"median_income\": 19070.0}, {\"rate_60_and_over\": 45.6, \"median_income\": 19250.0}, {\"rate_60_and_over\": 31.5, \"median_income\": 20400.0}, {\"rate_60_and_over\": 26.8, \"median_income\": 21050.0}, {\"rate_60_and_over\": 29.9, \"median_income\": 20690.0}, {\"rate_60_and_over\": 25.5, \"median_income\": 18320.0}, {\"rate_60_and_over\": 33.1, \"median_income\": 18910.0}, {\"rate_60_and_over\": 29.6, \"median_income\": 19510.0}, {\"rate_60_and_over\": 29.6, \"median_income\": 21940.0}, {\"rate_60_and_over\": 25.2, \"median_income\": 17140.0}, {\"rate_60_and_over\": 35.8, \"median_income\": 17740.0}, {\"rate_60_and_over\": null, \"median_income\": 20340.0}, {\"rate_60_and_over\": 38.5, \"median_income\": 19130.0}, {\"rate_60_and_over\": 25.6, \"median_income\": 19240.0}, {\"rate_60_and_over\": 27.3, \"median_income\": 20210.0}, {\"rate_60_and_over\": 29.5, \"median_income\": 18970.0}, {\"rate_60_and_over\": 38.2, \"median_income\": 16630.0}, {\"rate_60_and_over\": 24.9, \"median_income\": 15990.0}, {\"rate_60_and_over\": 26.8, \"median_income\": 19480.0}, {\"rate_60_and_over\": 47.9, \"median_income\": 22800.0}, {\"rate_60_and_over\": 32.3, \"median_income\": 18500.0}, {\"rate_60_and_over\": 28.1, \"median_income\": 19480.0}, {\"rate_60_and_over\": 14.3, \"median_income\": 19320.0}, {\"rate_60_and_over\": 27.1, \"median_income\": 19460.0}, {\"rate_60_and_over\": 36.8, \"median_income\": 18950.0}, {\"rate_60_and_over\": 30.7, \"median_income\": 17980.0}, {\"rate_60_and_over\": 41.5, \"median_income\": 19810.0}, {\"rate_60_and_over\": 33.9, \"median_income\": 16560.0}, {\"rate_60_and_over\": 32.8, \"median_income\": 19650.0}, {\"rate_60_and_over\": 27.9, \"median_income\": 19430.0}, {\"rate_60_and_over\": 41.1, \"median_income\": 19740.0}, {\"rate_60_and_over\": 28.5, \"median_income\": 18150.0}, {\"rate_60_and_over\": 29.0, \"median_income\": 18430.0}, {\"rate_60_and_over\": 18.9, \"median_income\": 23890.0}, {\"rate_60_and_over\": 27.200000000000003, \"median_income\": 18330.0}, {\"rate_60_and_over\": 38.5, \"median_income\": 18360.0}, {\"rate_60_and_over\": 19.5, \"median_income\": 16410.0}, {\"rate_60_and_over\": 34.599999999999994, \"median_income\": 18800.0}, {\"rate_60_and_over\": 24.5, \"median_income\": 19010.0}, {\"rate_60_and_over\": 41.8, \"median_income\": 19930.0}, {\"rate_60_and_over\": 34.3, \"median_income\": 21070.0}, {\"rate_60_and_over\": 18.0, \"median_income\": 18930.0}, {\"rate_60_and_over\": 15.6, \"median_income\": 18080.0}, {\"rate_60_and_over\": 24.2, \"median_income\": 21760.0}, {\"rate_60_and_over\": 22.4, \"median_income\": 19750.0}, {\"rate_60_and_over\": 33.599999999999994, \"median_income\": 19660.0}, {\"rate_60_and_over\": 40.1, \"median_income\": 19080.0}, {\"rate_60_and_over\": 28.7, \"median_income\": 22240.0}, {\"rate_60_and_over\": 28.0, \"median_income\": 20820.0}, {\"rate_60_and_over\": 28.0, \"median_income\": 15890.0}, {\"rate_60_and_over\": 27.7, \"median_income\": 20200.0}, {\"rate_60_and_over\": 38.4, \"median_income\": 18920.0}, {\"rate_60_and_over\": 25.5, \"median_income\": 18340.0}, {\"rate_60_and_over\": 30.0, \"median_income\": 20830.0}, {\"rate_60_and_over\": 30.5, \"median_income\": 18040.0}, {\"rate_60_and_over\": 33.8, \"median_income\": 18650.0}, {\"rate_60_and_over\": 43.1, \"median_income\": 20320.0}, {\"rate_60_and_over\": 18.8, \"median_income\": 18480.0}, {\"rate_60_and_over\": 37.6, \"median_income\": 19830.0}, {\"rate_60_and_over\": 30.6, \"median_income\": 19660.0}, {\"rate_60_and_over\": 37.8, \"median_income\": 19330.0}, {\"rate_60_and_over\": 31.700000000000003, \"median_income\": 18780.0}, {\"rate_60_and_over\": 21.1, \"median_income\": 16100.0}, {\"rate_60_and_over\": 24.9, \"median_income\": 21280.0}, {\"rate_60_and_over\": 18.8, \"median_income\": 21000.0}, {\"rate_60_and_over\": 18.6, \"median_income\": 22600.0}, {\"rate_60_and_over\": 24.4, \"median_income\": 17490.0}, {\"rate_60_and_over\": 31.3, \"median_income\": 18620.0}, {\"rate_60_and_over\": 37.0, \"median_income\": 20230.0}, {\"rate_60_and_over\": 32.8, \"median_income\": 19140.0}, {\"rate_60_and_over\": 32.3, \"median_income\": 18930.0}, {\"rate_60_and_over\": 29.7, \"median_income\": 20320.0}, {\"rate_60_and_over\": 26.6, \"median_income\": 17770.0}, {\"rate_60_and_over\": 27.5, \"median_income\": 21670.0}, {\"rate_60_and_over\": 37.8, \"median_income\": 19980.0}, {\"rate_60_and_over\": 24.9, \"median_income\": 19370.0}, {\"rate_60_and_over\": 41.6, \"median_income\": 19810.0}, {\"rate_60_and_over\": 47.0, \"median_income\": 19760.0}, {\"rate_60_and_over\": 35.3, \"median_income\": 20190.0}, {\"rate_60_and_over\": null, \"median_income\": 20180.0}, {\"rate_60_and_over\": 19.2, \"median_income\": 27190.0}, {\"rate_60_and_over\": 27.700000000000003, \"median_income\": 18320.0}, {\"rate_60_and_over\": 22.1, \"median_income\": 28270.0}, {\"rate_60_and_over\": 35.5, \"median_income\": 19110.0}, {\"rate_60_and_over\": 28.1, \"median_income\": 19930.0}, {\"rate_60_and_over\": 29.700000000000003, \"median_income\": 19720.0}, {\"rate_60_and_over\": 31.6, \"median_income\": 17560.0}, {\"rate_60_and_over\": 28.0, \"median_income\": 16630.0}, {\"rate_60_and_over\": 25.8, \"median_income\": 17330.0}, {\"rate_60_and_over\": 20.1, \"median_income\": 19000.0}, {\"rate_60_and_over\": 25.1, \"median_income\": 23250.0}, {\"rate_60_and_over\": 28.6, \"median_income\": 20510.0}, {\"rate_60_and_over\": 17.6, \"median_income\": 20840.0}, {\"rate_60_and_over\": 38.7, \"median_income\": 18090.0}, {\"rate_60_and_over\": 32.8, \"median_income\": 19940.0}, {\"rate_60_and_over\": 26.0, \"median_income\": 18070.0}, {\"rate_60_and_over\": 27.8, \"median_income\": 21220.0}, {\"rate_60_and_over\": 25.9, \"median_income\": 26660.0}, {\"rate_60_and_over\": 32.7, \"median_income\": 20810.0}, {\"rate_60_and_over\": 20.9, \"median_income\": 19060.0}, {\"rate_60_and_over\": 19.0, \"median_income\": 21410.0}, {\"rate_60_and_over\": 30.0, \"median_income\": 18260.0}, {\"rate_60_and_over\": 26.4, \"median_income\": 22040.0}, {\"rate_60_and_over\": 32.3, \"median_income\": 18100.0}, {\"rate_60_and_over\": 40.3, \"median_income\": 20780.0}, {\"rate_60_and_over\": 32.7, \"median_income\": 19110.0}, {\"rate_60_and_over\": 27.700000000000003, \"median_income\": 20850.0}, {\"rate_60_and_over\": 33.6, \"median_income\": 19820.0}, {\"rate_60_and_over\": 18.8, \"median_income\": 20340.0}, {\"rate_60_and_over\": 42.6, \"median_income\": 19030.0}, {\"rate_60_and_over\": 28.4, \"median_income\": 19690.0}, {\"rate_60_and_over\": 33.1, \"median_income\": 18900.0}, {\"rate_60_and_over\": 31.0, \"median_income\": 17630.0}, {\"rate_60_and_over\": 29.1, \"median_income\": 17480.0}, {\"rate_60_and_over\": 25.8, \"median_income\": 18330.0}, {\"rate_60_and_over\": 33.3, \"median_income\": 20110.0}, {\"rate_60_and_over\": 36.1, \"median_income\": 18790.0}, {\"rate_60_and_over\": 22.7, \"median_income\": 31630.0}, {\"rate_60_and_over\": 35.3, \"median_income\": 19340.0}, {\"rate_60_and_over\": 41.8, \"median_income\": 18670.0}, {\"rate_60_and_over\": 35.2, \"median_income\": 21140.0}, {\"rate_60_and_over\": 16.299999999999997, \"median_income\": 31730.0}, {\"rate_60_and_over\": 29.6, \"median_income\": 19800.0}, {\"rate_60_and_over\": 39.2, \"median_income\": 21930.0}, {\"rate_60_and_over\": 29.200000000000003, \"median_income\": 20760.0}, {\"rate_60_and_over\": 20.6, \"median_income\": 16730.0}, {\"rate_60_and_over\": 27.5, \"median_income\": 17350.0}, {\"rate_60_and_over\": 35.4, \"median_income\": 19410.0}, {\"rate_60_and_over\": 36.400000000000006, \"median_income\": 20400.0}, {\"rate_60_and_over\": 16.4, \"median_income\": 15650.0}, {\"rate_60_and_over\": 38.8, \"median_income\": 19990.0}, {\"rate_60_and_over\": 26.700000000000003, \"median_income\": 18730.0}, {\"rate_60_and_over\": 28.200000000000003, \"median_income\": 19060.0}, {\"rate_60_and_over\": 32.400000000000006, \"median_income\": 19760.0}, {\"rate_60_and_over\": 32.6, \"median_income\": 19970.0}, {\"rate_60_and_over\": 28.200000000000003, \"median_income\": 20540.0}, {\"rate_60_and_over\": 29.8, \"median_income\": 16350.0}, {\"rate_60_and_over\": 26.6, \"median_income\": 20320.0}, {\"rate_60_and_over\": 25.2, \"median_income\": 20980.0}, {\"rate_60_and_over\": 25.0, \"median_income\": 25800.0}, {\"rate_60_and_over\": 29.1, \"median_income\": 17700.0}, {\"rate_60_and_over\": 28.1, \"median_income\": 17430.0}, {\"rate_60_and_over\": null, \"median_income\": 18790.0}, {\"rate_60_and_over\": 29.6, \"median_income\": 17880.0}, {\"rate_60_and_over\": 27.5, \"median_income\": 20770.0}, {\"rate_60_and_over\": 32.400000000000006, \"median_income\": 18310.0}, {\"rate_60_and_over\": 25.6, \"median_income\": 23110.0}, {\"rate_60_and_over\": 27.4, \"median_income\": 23260.0}, {\"rate_60_and_over\": 16.4, \"median_income\": 20360.0}, {\"rate_60_and_over\": 25.1, \"median_income\": 18230.0}, {\"rate_60_and_over\": null, \"median_income\": 19750.0}, {\"rate_60_and_over\": 16.9, \"median_income\": 21190.0}, {\"rate_60_and_over\": 29.7, \"median_income\": 20880.0}, {\"rate_60_and_over\": 23.5, \"median_income\": 19910.0}, {\"rate_60_and_over\": 23.3, \"median_income\": 17450.0}, {\"rate_60_and_over\": 31.4, \"median_income\": 20490.0}, {\"rate_60_and_over\": 34.0, \"median_income\": 19970.0}, {\"rate_60_and_over\": 27.0, \"median_income\": 21880.0}, {\"rate_60_and_over\": 25.8, \"median_income\": 19450.0}, {\"rate_60_and_over\": null, \"median_income\": 18970.0}, {\"rate_60_and_over\": 32.3, \"median_income\": 22190.0}, {\"rate_60_and_over\": 35.5, \"median_income\": 19700.0}, {\"rate_60_and_over\": 29.200000000000003, \"median_income\": 19180.0}, {\"rate_60_and_over\": 22.9, \"median_income\": 32140.0}, {\"rate_60_and_over\": 26.4, \"median_income\": 17790.0}, {\"rate_60_and_over\": 29.4, \"median_income\": 18390.0}, {\"rate_60_and_over\": 42.0, \"median_income\": 19130.0}, {\"rate_60_and_over\": 25.3, \"median_income\": 20270.0}, {\"rate_60_and_over\": 34.6, \"median_income\": 18190.0}, {\"rate_60_and_over\": 39.5, \"median_income\": 19690.0}, {\"rate_60_and_over\": 23.5, \"median_income\": 18340.0}, {\"rate_60_and_over\": 36.7, \"median_income\": 18420.0}, {\"rate_60_and_over\": 34.7, \"median_income\": 20430.0}, {\"rate_60_and_over\": 30.6, \"median_income\": 16650.0}, {\"rate_60_and_over\": 35.900000000000006, \"median_income\": 19440.0}, {\"rate_60_and_over\": 28.8, \"median_income\": 21340.0}]}}, {\"actions\": false, \"mode\": \"vega-lite\"});\n</script>",
      "text/plain": "alt.Chart(...)"
     },
     "metadata": {}
    }
   ],
   "execution_count": 30
  },
  {
   "cell_type": "code",
   "source": "",
   "metadata": {
    "tags": [],
    "cell_id": "00013-5f28fa28-db60-43ae-a24a-58a1aa80a1ab",
    "deepnote_to_be_reexecuted": false,
    "source_hash": "dfb68760",
    "execution_start": 1641117224072,
    "execution_millis": 1,
    "deepnote_cell_type": "code"
   },
   "outputs": [],
   "execution_count": 24
  },
  {
   "cell_type": "markdown",
   "source": "<a style='text-decoration:none;line-height:16px;display:flex;color:#5B5B62;padding:10px;justify-content:end;' href='https://deepnote.com?utm_source=created-in-deepnote-cell&projectId=2f812232-8ed1-4e89-8f48-597e10058637' target=\"_blank\">\n<img alt='Created in deepnote.com' style='display:inline;max-height:16px;margin:0px;margin-right:7.5px;' src='data:image/svg+xml;base64,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' > </img>\nCreated in <span style='font-weight:600;margin-left:4px;'>Deepnote</span></a>",
   "metadata": {
    "tags": [],
    "created_in_deepnote_cell": true,
    "deepnote_cell_type": "markdown"
   }
  }
 ],
 "nbformat": 4,
 "nbformat_minor": 2,
 "metadata": {
  "orig_nbformat": 2,
  "deepnote": {
   "is_reactive": false
  },
  "deepnote_notebook_id": "47f0340d-dfaa-418c-953e-6fd60d41cf9a",
  "deepnote_execution_queue": []
 }
}