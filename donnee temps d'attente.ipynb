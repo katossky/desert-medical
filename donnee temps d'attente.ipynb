{
 "cells": [
  {
   "cell_type": "markdown",
   "source": "# Extraction des temps d'attente\n\nLes données que nous cherchons à comprendre sont des données issues de Mariane. Elles se présentent sous la forme d'un tableau qui présente le temps d'attente pour avoir un rendez vous chez différentes catégories de médecins pour chaque préfecture et sous-préfecture. \n\nCe tableaux cependant n'est récupérable qu'en image, l'enjeu de cette extraction de donnée sera donc de convertir une image de tableau en fichier exploitable pour le traitement des données (CSV ici).",
   "metadata": {
    "tags": [],
    "cell_id": "00000-663b3a48-c12d-4571-9034-f497da7a7d35",
    "deepnote_cell_type": "markdown"
   }
  },
  {
   "cell_type": "markdown",
   "source": "### Du document .jpg au document .csv\nPour lire le text sur un fichier image, on utilise tesseract, un logiciel de reconnaissance optique de caractère facilement utilisable depuis python.",
   "metadata": {
    "tags": [],
    "cell_id": "00003-13c3e6ee-991f-4131-a6a5-cdcde9e8673e",
    "deepnote_cell_type": "markdown"
   }
  },
  {
   "cell_type": "code",
   "metadata": {
    "tags": [],
    "cell_id": "00002-27c71053-f555-4043-9694-87fb551631eb",
    "deepnote_to_be_reexecuted": false,
    "source_hash": "b09e675e",
    "execution_start": 1640785709069,
    "execution_millis": 5630,
    "deepnote_cell_type": "code"
   },
   "source": "from PIL import Image\n!pip install pytesseract\nfrom pytesseract import pytesseract\nimport re\npytesseract.tesseract_cmd = \"/work/desert-medical/tesseract.exe\"",
   "execution_count": null,
   "outputs": [
    {
     "name": "stdout",
     "text": "Requirement already satisfied: pytesseract in /root/venv/lib/python3.7/site-packages (0.3.8)\nRequirement already satisfied: Pillow in /shared-libs/python3.7/py/lib/python3.7/site-packages (from pytesseract) (8.4.0)\n\u001b[33mWARNING: You are using pip version 20.1.1; however, version 21.3.1 is available.\nYou should consider upgrading via the '/root/venv/bin/python -m pip install --upgrade pip' command.\u001b[0m\n",
     "output_type": "stream",
     "data": {}
    }
   ]
  },
  {
   "cell_type": "code",
   "metadata": {
    "tags": [],
    "cell_id": "00003-ee653ef2-e894-430d-a8eb-2b8410436529",
    "deepnote_to_be_reexecuted": false,
    "source_hash": "c5264596",
    "execution_start": 1640785717393,
    "execution_millis": 116,
    "deepnote_cell_type": "code"
   },
   "source": "img=Image.open(\"/work/desert-medical/images/im1.jpg\")\ntext = pytesseract.image_to_string(img.convert(\"L\"))",
   "execution_count": null,
   "outputs": [
    {
     "output_type": "error",
     "ename": "PermissionError",
     "evalue": "[Errno 13] Permission denied: '/work/desert-medical/tesseract.exe'",
     "traceback": [
      "\u001b[0;31m---------------------------------------------------------------------------\u001b[0m",
      "\u001b[0;31mPermissionError\u001b[0m                           Traceback (most recent call last)",
      "\u001b[0;32m<ipython-input-6-5fd8e9839749>\u001b[0m in \u001b[0;36m<module>\u001b[0;34m\u001b[0m\n\u001b[1;32m      1\u001b[0m \u001b[0mimg\u001b[0m\u001b[0;34m=\u001b[0m\u001b[0mImage\u001b[0m\u001b[0;34m.\u001b[0m\u001b[0mopen\u001b[0m\u001b[0;34m(\u001b[0m\u001b[0;34m\"/work/desert-medical/images/im1.jpg\"\u001b[0m\u001b[0;34m)\u001b[0m\u001b[0;34m\u001b[0m\u001b[0;34m\u001b[0m\u001b[0m\n\u001b[0;32m----> 2\u001b[0;31m \u001b[0mtext\u001b[0m \u001b[0;34m=\u001b[0m \u001b[0mpytesseract\u001b[0m\u001b[0;34m.\u001b[0m\u001b[0mimage_to_string\u001b[0m\u001b[0;34m(\u001b[0m\u001b[0mimg\u001b[0m\u001b[0;34m.\u001b[0m\u001b[0mconvert\u001b[0m\u001b[0;34m(\u001b[0m\u001b[0;34m\"L\"\u001b[0m\u001b[0;34m)\u001b[0m\u001b[0;34m)\u001b[0m\u001b[0;34m\u001b[0m\u001b[0;34m\u001b[0m\u001b[0m\n\u001b[0m",
      "\u001b[0;32m~/venv/lib/python3.7/site-packages/pytesseract/pytesseract.py\u001b[0m in \u001b[0;36mimage_to_string\u001b[0;34m(image, lang, config, nice, output_type, timeout)\u001b[0m\n\u001b[1;32m    415\u001b[0m         \u001b[0mOutput\u001b[0m\u001b[0;34m.\u001b[0m\u001b[0mDICT\u001b[0m\u001b[0;34m:\u001b[0m \u001b[0;32mlambda\u001b[0m\u001b[0;34m:\u001b[0m \u001b[0;34m{\u001b[0m\u001b[0;34m'text'\u001b[0m\u001b[0;34m:\u001b[0m \u001b[0mrun_and_get_output\u001b[0m\u001b[0;34m(\u001b[0m\u001b[0;34m*\u001b[0m\u001b[0margs\u001b[0m\u001b[0;34m)\u001b[0m\u001b[0;34m}\u001b[0m\u001b[0;34m,\u001b[0m\u001b[0;34m\u001b[0m\u001b[0;34m\u001b[0m\u001b[0m\n\u001b[1;32m    416\u001b[0m         \u001b[0mOutput\u001b[0m\u001b[0;34m.\u001b[0m\u001b[0mSTRING\u001b[0m\u001b[0;34m:\u001b[0m \u001b[0;32mlambda\u001b[0m\u001b[0;34m:\u001b[0m \u001b[0mrun_and_get_output\u001b[0m\u001b[0;34m(\u001b[0m\u001b[0;34m*\u001b[0m\u001b[0margs\u001b[0m\u001b[0;34m)\u001b[0m\u001b[0;34m,\u001b[0m\u001b[0;34m\u001b[0m\u001b[0;34m\u001b[0m\u001b[0m\n\u001b[0;32m--> 417\u001b[0;31m     }[output_type]()\n\u001b[0m\u001b[1;32m    418\u001b[0m \u001b[0;34m\u001b[0m\u001b[0m\n\u001b[1;32m    419\u001b[0m \u001b[0;34m\u001b[0m\u001b[0m\n",
      "\u001b[0;32m~/venv/lib/python3.7/site-packages/pytesseract/pytesseract.py\u001b[0m in \u001b[0;36m<lambda>\u001b[0;34m()\u001b[0m\n\u001b[1;32m    414\u001b[0m         \u001b[0mOutput\u001b[0m\u001b[0;34m.\u001b[0m\u001b[0mBYTES\u001b[0m\u001b[0;34m:\u001b[0m \u001b[0;32mlambda\u001b[0m\u001b[0;34m:\u001b[0m \u001b[0mrun_and_get_output\u001b[0m\u001b[0;34m(\u001b[0m\u001b[0;34m*\u001b[0m\u001b[0;34m(\u001b[0m\u001b[0margs\u001b[0m \u001b[0;34m+\u001b[0m \u001b[0;34m[\u001b[0m\u001b[0;32mTrue\u001b[0m\u001b[0;34m]\u001b[0m\u001b[0;34m)\u001b[0m\u001b[0;34m)\u001b[0m\u001b[0;34m,\u001b[0m\u001b[0;34m\u001b[0m\u001b[0;34m\u001b[0m\u001b[0m\n\u001b[1;32m    415\u001b[0m         \u001b[0mOutput\u001b[0m\u001b[0;34m.\u001b[0m\u001b[0mDICT\u001b[0m\u001b[0;34m:\u001b[0m \u001b[0;32mlambda\u001b[0m\u001b[0;34m:\u001b[0m \u001b[0;34m{\u001b[0m\u001b[0;34m'text'\u001b[0m\u001b[0;34m:\u001b[0m \u001b[0mrun_and_get_output\u001b[0m\u001b[0;34m(\u001b[0m\u001b[0;34m*\u001b[0m\u001b[0margs\u001b[0m\u001b[0;34m)\u001b[0m\u001b[0;34m}\u001b[0m\u001b[0;34m,\u001b[0m\u001b[0;34m\u001b[0m\u001b[0;34m\u001b[0m\u001b[0m\n\u001b[0;32m--> 416\u001b[0;31m         \u001b[0mOutput\u001b[0m\u001b[0;34m.\u001b[0m\u001b[0mSTRING\u001b[0m\u001b[0;34m:\u001b[0m \u001b[0;32mlambda\u001b[0m\u001b[0;34m:\u001b[0m \u001b[0mrun_and_get_output\u001b[0m\u001b[0;34m(\u001b[0m\u001b[0;34m*\u001b[0m\u001b[0margs\u001b[0m\u001b[0;34m)\u001b[0m\u001b[0;34m,\u001b[0m\u001b[0;34m\u001b[0m\u001b[0;34m\u001b[0m\u001b[0m\n\u001b[0m\u001b[1;32m    417\u001b[0m     }[output_type]()\n\u001b[1;32m    418\u001b[0m \u001b[0;34m\u001b[0m\u001b[0m\n",
      "\u001b[0;32m~/venv/lib/python3.7/site-packages/pytesseract/pytesseract.py\u001b[0m in \u001b[0;36mrun_and_get_output\u001b[0;34m(image, extension, lang, config, nice, timeout, return_bytes)\u001b[0m\n\u001b[1;32m    282\u001b[0m         }\n\u001b[1;32m    283\u001b[0m \u001b[0;34m\u001b[0m\u001b[0m\n\u001b[0;32m--> 284\u001b[0;31m         \u001b[0mrun_tesseract\u001b[0m\u001b[0;34m(\u001b[0m\u001b[0;34m**\u001b[0m\u001b[0mkwargs\u001b[0m\u001b[0;34m)\u001b[0m\u001b[0;34m\u001b[0m\u001b[0;34m\u001b[0m\u001b[0m\n\u001b[0m\u001b[1;32m    285\u001b[0m         \u001b[0mfilename\u001b[0m \u001b[0;34m=\u001b[0m \u001b[0mkwargs\u001b[0m\u001b[0;34m[\u001b[0m\u001b[0;34m'output_filename_base'\u001b[0m\u001b[0;34m]\u001b[0m \u001b[0;34m+\u001b[0m \u001b[0mextsep\u001b[0m \u001b[0;34m+\u001b[0m \u001b[0mextension\u001b[0m\u001b[0;34m\u001b[0m\u001b[0;34m\u001b[0m\u001b[0m\n\u001b[1;32m    286\u001b[0m         \u001b[0;32mwith\u001b[0m \u001b[0mopen\u001b[0m\u001b[0;34m(\u001b[0m\u001b[0mfilename\u001b[0m\u001b[0;34m,\u001b[0m \u001b[0;34m'rb'\u001b[0m\u001b[0;34m)\u001b[0m \u001b[0;32mas\u001b[0m \u001b[0moutput_file\u001b[0m\u001b[0;34m:\u001b[0m\u001b[0;34m\u001b[0m\u001b[0;34m\u001b[0m\u001b[0m\n",
      "\u001b[0;32m~/venv/lib/python3.7/site-packages/pytesseract/pytesseract.py\u001b[0m in \u001b[0;36mrun_tesseract\u001b[0;34m(input_filename, output_filename_base, extension, lang, config, nice, timeout)\u001b[0m\n\u001b[1;32m    253\u001b[0m     \u001b[0;32mexcept\u001b[0m \u001b[0mOSError\u001b[0m \u001b[0;32mas\u001b[0m \u001b[0me\u001b[0m\u001b[0;34m:\u001b[0m\u001b[0;34m\u001b[0m\u001b[0;34m\u001b[0m\u001b[0m\n\u001b[1;32m    254\u001b[0m         \u001b[0;32mif\u001b[0m \u001b[0me\u001b[0m\u001b[0;34m.\u001b[0m\u001b[0merrno\u001b[0m \u001b[0;34m!=\u001b[0m \u001b[0mENOENT\u001b[0m\u001b[0;34m:\u001b[0m\u001b[0;34m\u001b[0m\u001b[0;34m\u001b[0m\u001b[0m\n\u001b[0;32m--> 255\u001b[0;31m             \u001b[0;32mraise\u001b[0m \u001b[0me\u001b[0m\u001b[0;34m\u001b[0m\u001b[0;34m\u001b[0m\u001b[0m\n\u001b[0m\u001b[1;32m    256\u001b[0m         \u001b[0;32mraise\u001b[0m \u001b[0mTesseractNotFoundError\u001b[0m\u001b[0;34m(\u001b[0m\u001b[0;34m)\u001b[0m\u001b[0;34m\u001b[0m\u001b[0;34m\u001b[0m\u001b[0m\n\u001b[1;32m    257\u001b[0m \u001b[0;34m\u001b[0m\u001b[0m\n",
      "\u001b[0;32m~/venv/lib/python3.7/site-packages/pytesseract/pytesseract.py\u001b[0m in \u001b[0;36mrun_tesseract\u001b[0;34m(input_filename, output_filename_base, extension, lang, config, nice, timeout)\u001b[0m\n\u001b[1;32m    250\u001b[0m \u001b[0;34m\u001b[0m\u001b[0m\n\u001b[1;32m    251\u001b[0m     \u001b[0;32mtry\u001b[0m\u001b[0;34m:\u001b[0m\u001b[0;34m\u001b[0m\u001b[0;34m\u001b[0m\u001b[0m\n\u001b[0;32m--> 252\u001b[0;31m         \u001b[0mproc\u001b[0m \u001b[0;34m=\u001b[0m \u001b[0msubprocess\u001b[0m\u001b[0;34m.\u001b[0m\u001b[0mPopen\u001b[0m\u001b[0;34m(\u001b[0m\u001b[0mcmd_args\u001b[0m\u001b[0;34m,\u001b[0m \u001b[0;34m**\u001b[0m\u001b[0msubprocess_args\u001b[0m\u001b[0;34m(\u001b[0m\u001b[0;34m)\u001b[0m\u001b[0;34m)\u001b[0m\u001b[0;34m\u001b[0m\u001b[0;34m\u001b[0m\u001b[0m\n\u001b[0m\u001b[1;32m    253\u001b[0m     \u001b[0;32mexcept\u001b[0m \u001b[0mOSError\u001b[0m \u001b[0;32mas\u001b[0m \u001b[0me\u001b[0m\u001b[0;34m:\u001b[0m\u001b[0;34m\u001b[0m\u001b[0;34m\u001b[0m\u001b[0m\n\u001b[1;32m    254\u001b[0m         \u001b[0;32mif\u001b[0m \u001b[0me\u001b[0m\u001b[0;34m.\u001b[0m\u001b[0merrno\u001b[0m \u001b[0;34m!=\u001b[0m \u001b[0mENOENT\u001b[0m\u001b[0;34m:\u001b[0m\u001b[0;34m\u001b[0m\u001b[0;34m\u001b[0m\u001b[0m\n",
      "\u001b[0;32m/usr/local/lib/python3.7/subprocess.py\u001b[0m in \u001b[0;36m__init__\u001b[0;34m(self, args, bufsize, executable, stdin, stdout, stderr, preexec_fn, close_fds, shell, cwd, env, universal_newlines, startupinfo, creationflags, restore_signals, start_new_session, pass_fds, encoding, errors, text)\u001b[0m\n\u001b[1;32m    798\u001b[0m                                 \u001b[0mc2pread\u001b[0m\u001b[0;34m,\u001b[0m \u001b[0mc2pwrite\u001b[0m\u001b[0;34m,\u001b[0m\u001b[0;34m\u001b[0m\u001b[0;34m\u001b[0m\u001b[0m\n\u001b[1;32m    799\u001b[0m                                 \u001b[0merrread\u001b[0m\u001b[0;34m,\u001b[0m \u001b[0merrwrite\u001b[0m\u001b[0;34m,\u001b[0m\u001b[0;34m\u001b[0m\u001b[0;34m\u001b[0m\u001b[0m\n\u001b[0;32m--> 800\u001b[0;31m                                 restore_signals, start_new_session)\n\u001b[0m\u001b[1;32m    801\u001b[0m         \u001b[0;32mexcept\u001b[0m\u001b[0;34m:\u001b[0m\u001b[0;34m\u001b[0m\u001b[0;34m\u001b[0m\u001b[0m\n\u001b[1;32m    802\u001b[0m             \u001b[0;31m# Cleanup if the child failed starting.\u001b[0m\u001b[0;34m\u001b[0m\u001b[0;34m\u001b[0m\u001b[0;34m\u001b[0m\u001b[0m\n",
      "\u001b[0;32m/usr/local/lib/python3.7/subprocess.py\u001b[0m in \u001b[0;36m_execute_child\u001b[0;34m(self, args, executable, preexec_fn, close_fds, pass_fds, cwd, env, startupinfo, creationflags, shell, p2cread, p2cwrite, c2pread, c2pwrite, errread, errwrite, restore_signals, start_new_session)\u001b[0m\n\u001b[1;32m   1549\u001b[0m                         \u001b[0;32mif\u001b[0m \u001b[0merrno_num\u001b[0m \u001b[0;34m==\u001b[0m \u001b[0merrno\u001b[0m\u001b[0;34m.\u001b[0m\u001b[0mENOENT\u001b[0m\u001b[0;34m:\u001b[0m\u001b[0;34m\u001b[0m\u001b[0;34m\u001b[0m\u001b[0m\n\u001b[1;32m   1550\u001b[0m                             \u001b[0merr_msg\u001b[0m \u001b[0;34m+=\u001b[0m \u001b[0;34m': '\u001b[0m \u001b[0;34m+\u001b[0m \u001b[0mrepr\u001b[0m\u001b[0;34m(\u001b[0m\u001b[0merr_filename\u001b[0m\u001b[0;34m)\u001b[0m\u001b[0;34m\u001b[0m\u001b[0;34m\u001b[0m\u001b[0m\n\u001b[0;32m-> 1551\u001b[0;31m                     \u001b[0;32mraise\u001b[0m \u001b[0mchild_exception_type\u001b[0m\u001b[0;34m(\u001b[0m\u001b[0merrno_num\u001b[0m\u001b[0;34m,\u001b[0m \u001b[0merr_msg\u001b[0m\u001b[0;34m,\u001b[0m \u001b[0merr_filename\u001b[0m\u001b[0;34m)\u001b[0m\u001b[0;34m\u001b[0m\u001b[0;34m\u001b[0m\u001b[0m\n\u001b[0m\u001b[1;32m   1552\u001b[0m                 \u001b[0;32mraise\u001b[0m \u001b[0mchild_exception_type\u001b[0m\u001b[0;34m(\u001b[0m\u001b[0merr_msg\u001b[0m\u001b[0;34m)\u001b[0m\u001b[0;34m\u001b[0m\u001b[0;34m\u001b[0m\u001b[0m\n\u001b[1;32m   1553\u001b[0m \u001b[0;34m\u001b[0m\u001b[0m\n",
      "\u001b[0;31mPermissionError\u001b[0m: [Errno 13] Permission denied: '/work/desert-medical/tesseract.exe'"
     ],
     "data": {}
    }
   ]
  },
  {
   "cell_type": "code",
   "metadata": {
    "tags": [],
    "cell_id": "00004-af3cd54b-980a-41ad-a4d0-84047bd5d917",
    "deepnote_cell_type": "code"
   },
   "source": "def completeCSV(text, fichierCSV, erreurs):\n    \"\"\"\n    prend en entrée un des tableaux en chaine de caractère et le début du fichier CSV\n    qui globalise les données des 7 tableaux.\n    Complète le fichier CSV avec les donnée du tableau en entrée\n    \"\"\"\n    liste = text.split(\"\\n\")[:-1]\n\n    sep = '[\\\\\\|\\[\\]\\(\\)\\{\\}/° \"*:¢]'\n\n    # fichierCSV = \"\"\n\n    # liste_bon = []\n    bon = 0\n    for l in liste:\n        if bon == 1 and l != ' ' and l != '':\n            tmp = []\n            villeAArticle = False\n            for i in re.split(sep,l):\n                if villeAArticle and i!='':\n                    tmp[-1]+= \" \"+ i\n                    villeAArticle=False\n                else:\n                    if i == \"Le\" or i ==\"La\" or i == \"Les\" or i == \"Vire\":\n                        villeAArticle = True\n                    if i != \"\":\n                        tmp.append(i)\n            # print(tmp)\n    #convertir la ligne tmp en ligne du fichier CSV\n            fichierCSV += \"\\n\" + tmp[0] + \",\" + tmp[1]\n            for e in range(2,8):\n                try:\n                    if tmp[e].isdigit():\n                        fichierCSV += \",\"+tmp[e]\n                    else:\n                        fichierCSV += \",NA\"\n                except:\n                    fichierCSV += \",NA\"\n            if len(tmp)!=8 :\n                erreurs.append(tmp[1])\n\n\n            # for e in tmp[2:]:\n            #     if e.isdigit():\n            #         fichierCSV += \",\"+e\n            #     else:\n            #         fichierCSV += \",NA\"\n            # for e in range(8-len(tmp)):\n            #     fichierCSV += \",NA\"\n\n            # liste_bon.append(tmp)\n        else :\n            # if l == 'Moyenne nationale | 98 | 140 | 21 | 101 | 158 | 74':\n            if 'Moyenne nationale' in l:\n                bon = 1\n    return fichierCSV, erreurs\n\n\npytesseract.tesseract_cmd = \"C:\\\\Program Files\\\\Tesseract-OCR\\\\tesseract.exe\"\nfichierCSV = \"Rang sur 314,Territoire,Dentiste,Dermatologue,Généraliste,Gynécologue,Ophtalmologue,Pédiatre\"\n\nerreurs = []\n\nfor i in range(7):\n    img=Image.open(r\"C:\\Users\\elita\\Documents\\projet stat\\images\\im\"+str(i+1)+\".jpg\")\n\n\n\n    text = pytesseract.image_to_string(img.convert(\"L\"))\n\n    fichierCSV, erreurs = completeCSV(text, fichierCSV, erreurs)\n\n\nfichier = open(r\"C:\\Users\\elita\\Documents\\projet stat\\donnee.csv\",\"w\")\nfichier.write(fichierCSV)\nfichier.close()",
   "execution_count": null,
   "outputs": []
  },
  {
   "cell_type": "markdown",
   "source": "### Associer les villes à leur code INSEE\n\nPour permettre de travailler avec les atres données, on associe à chaque ville son code INSEE. Pour se faire on crée un dictionnaire qui lie chaque ville à son code INSEE à l'aide de la page wikipedia qui liste toutes les sous prefectures de france et de la page wikipedia qui liste toutes les prefectures de France.",
   "metadata": {
    "tags": [],
    "cell_id": "00005-bbea7b5d-21ee-4313-bfd8-b759331a8b1a",
    "deepnote_cell_type": "markdown"
   }
  },
  {
   "cell_type": "code",
   "metadata": {
    "tags": [],
    "cell_id": "00005-7aeb1dc3-ec95-4054-bfc1-08df05f72e07",
    "deepnote_to_be_reexecuted": false,
    "source_hash": "f556028a",
    "execution_start": 1640802177698,
    "execution_millis": 173719,
    "deepnote_cell_type": "code"
   },
   "source": "import urllib\nfrom bs4 import BeautifulSoup\nimport pandas\nfrom urllib import request\nimport json\nfrom tqdm import tqdm\n\n##\nurl = \"https://fr.wikipedia.org/wiki/Liste_des_sous-pr%C3%A9fectures_de_France\"\n\nrequest_text = request.urlopen(url).read()\n\npage = BeautifulSoup(request_text, \"lxml\")\n\nlignes = page.find('table').find_all('tr')\n\ndico = dict()\n#liste=[]\n\nfor ligne in lignes[1:] :\n    nouveau_dep = ligne.find('th')!=None\n    cols = ligne.find_all('td')\n\n    if nouveau_dep:\n        if cols[2].text.strip() != '' :\n            dico[cols[2].text.strip()]=cols[1].text.strip()\n            #liste.append([cols[2].text.strip(), cols[1].text.strip()])\n    else :\n        dico[cols[1].text.strip()]=cols[0].text.strip()\n        #liste.append([cols[1].text.strip(), cols[0].text.strip()])\n\n\n\n##\nurl = \"https://fr.wikipedia.org/wiki/Liste_des_pr%C3%A9fectures_de_France\"\n\nrequest_text = request.urlopen(url).read()\n\npage = BeautifulSoup(request_text, \"lxml\")\n\nlignes = page.find('table').find_all('tr')\n# dico = dict()\n# liste = []\n\nfor ligne in tqdm(lignes[1:97]):\n    nom = ligne.find_all('td')[1].text.strip()\n\n    lien = \"https://fr.wikipedia.org\" + ligne.find_all(\"a\")[1].get('href')\n    page_pref = BeautifulSoup(request.urlopen(lien).read(), \"lxml\")\n\n    infos = page_pref.find('table').find_all('tr')\n    i=0\n\n    try :\n        test = infos[i].find('th').text.strip()\n    except :\n        test = None\n    while test != \"Code commune\":\n        # print(infos[i].text.strip().split(\"\\n\")[0])\n        i+=1\n        try :\n            test = infos[i].find('th').text.strip()\n        except :\n            test = None\n    num = infos[i].find('td').text.strip()\n\n    num = num.split(\" \")[0]\n    dico[nom]=num\n    #liste.append([nom,num])\n\n\n# Il y a aussi deux ville dans le tableau de Mariane qui ne sont pas des (sous-)préfectures\ndico['Ancenis-St-Géréon']='44003'\ndico['Sainte-Menehould']='51507'\n\n# Et Paris et mal encodé car il est nomé \"Paris (C)\" sur wikipédia\ndico['Paris'] = dico.pop('Paris (C)')\n\nfichier = open(\"/work/desert-medical/data/(sous) prefectures.json\",\"w\")\njson.dump(dico,fichier)\nfichier.close()",
   "execution_count": null,
   "outputs": [
    {
     "name": "stderr",
     "text": "100%|██████████| 96/96 [02:52<00:00,  1.79s/it]\n",
     "output_type": "stream",
     "data": {}
    }
   ]
  },
  {
   "cell_type": "code",
   "metadata": {
    "tags": [],
    "cell_id": "00006-efe93ae8-489b-4a7d-9c41-d289dd8815dd",
    "deepnote_to_be_reexecuted": false,
    "source_hash": "afc25c0a",
    "execution_start": 1640802886596,
    "execution_millis": 3,
    "deepnote_cell_type": "code"
   },
   "source": "import json\nfichier_dico = open(\"/work/desert-medical/data/(sous) prefectures.json\",\"r\")\ndico = json.load(fichier_dico)\nfichier_dico.close()\n\nfichier = open(\"/work/desert-medical/data/donnee temps attente.csv\", \"r\")\ndoc = fichier.read()\nfichier.close()\n\n#!pip install unidecode\nfrom unidecode import unidecode\n\n# dans la lecture des images il y a de nombreux problèmes d'accents alors on \n#utilise le module unidecode pour retirer les accents\ndico1 = dict()\nfor i in dico :\n    dico1[unidecode(i)]=dico[i]\n\n# le dictionnaire inversé qui associe à un numéro INSEE une ville (bien orthographiée)\ndico_inv = {v:k for k,v in dico.items()} \n\ntab=[el.split(\",\") for el in doc.split(\"\\n\")[1:]]\n\n# le fichier qui contiendra la liste des temps d'attente avec le numero INSEE\nnouveau_CSV=\"Numéro INSEE,Territoire,Dentiste,Dermatologue,Généraliste,Gynécologue,Ophtalmologue,Pédiatre,Rang sur 314\"\nerreurs=[]\n\nfor el in tab:\n    try : # si la lecture de l'image a bien fonctinné, il arrive à associer à la ville un numéro INSEE\n        num = dico1[unidecode(el[1])]\n        nouveau_CSV += \"\\n\"+num + \",\" + dico_inv[num]+\",\" + el[2]+\",\"+el[3]+\",\"+el[4]+\",\"+el[5]+\",\"+el[6]+\",\"+el[7]+\",\"+el[0]\n\n    except: # sinon on le fera à la main\n        erreurs.append(el[1])\n\nprint(erreurs) # il n'y a que 13 erreurs, on peut les traiter à la main",
   "execution_count": null,
   "outputs": [
    {
     "name": "stdout",
     "text": "[]\n",
     "output_type": "stream",
     "data": {}
    }
   ]
  },
  {
   "cell_type": "code",
   "metadata": {
    "tags": [],
    "cell_id": "00007-3856ffef-4c62-41cd-bce1-3b5a83ff1ed2",
    "deepnote_to_be_reexecuted": false,
    "source_hash": "babed3a4",
    "execution_start": 1640884092609,
    "execution_millis": 80833721,
    "deepnote_output_heights": [
     21.1875
    ],
    "deepnote_cell_type": "code"
   },
   "source": "#\"\"\"Alençon, Ancenis-St-Géréon : 44003, Besançon, Chalon sur Saône, Florac Trois Rivières\n#Le Blanc, Montmorillon, Paris, Rambouillet, Sainte-Menehould : 51507, Segré-en-Anjou Bleu, \n#Tournon-sur-Rhône, Vendôme\"\"\"",
   "execution_count": null,
   "outputs": []
  },
  {
   "cell_type": "code",
   "metadata": {
    "tags": [],
    "cell_id": "00009-ce0e549f-4a3b-4a72-81f8-79dc114ae3de",
    "deepnote_to_be_reexecuted": false,
    "source_hash": "399ed4a8",
    "execution_start": 1640803035180,
    "execution_millis": 17,
    "deepnote_output_heights": [
     21.1875
    ],
    "deepnote_cell_type": "code"
   },
   "source": "fichier = open(\"/work/desert-medical/data/donnee temps attente (avec numero INSEE).csv\", \"w\")\nfichier.write(nouveau_CSV)\nfichier.close()",
   "execution_count": null,
   "outputs": []
  },
  {
   "cell_type": "markdown",
   "source": "<a style='text-decoration:none;line-height:16px;display:flex;color:#5B5B62;padding:10px;justify-content:end;' href='https://deepnote.com?utm_source=created-in-deepnote-cell&projectId=2f812232-8ed1-4e89-8f48-597e10058637' target=\"_blank\">\n<img alt='Created in deepnote.com' style='display:inline;max-height:16px;margin:0px;margin-right:7.5px;' src='data:image/svg+xml;base64,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' > </img>\nCreated in <span style='font-weight:600;margin-left:4px;'>Deepnote</span></a>",
   "metadata": {
    "tags": [],
    "created_in_deepnote_cell": true,
    "deepnote_cell_type": "markdown"
   }
  }
 ],
 "nbformat": 4,
 "nbformat_minor": 2,
 "metadata": {
  "orig_nbformat": 2,
  "deepnote": {
   "is_reactive": false
  },
  "deepnote_notebook_id": "8d5a6af1-51b3-48af-b4d2-89ca1c1f0071",
  "deepnote_execution_queue": []
 }
}