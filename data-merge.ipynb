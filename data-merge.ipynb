{
 "cells": [
  {
   "cell_type": "code",
   "metadata": {
    "tags": [],
    "cell_id": "00000-d1405273-6408-4ba7-a430-546165c15e6b",
    "deepnote_to_be_reexecuted": false,
    "source_hash": "4b421004",
    "execution_start": 1641140038117,
    "execution_millis": 7572,
    "deepnote_cell_type": "code"
   },
   "source": "import numpy as np\nimport pandas as pd\n!pip install bs4==0.0.1\nimport urllib\nimport bs4\nfrom urllib import request\nfrom tqdm import tqdm\n",
   "execution_count": 1,
   "outputs": [
    {
     "name": "stdout",
     "text": "Collecting bs4==0.0.1\n  Downloading bs4-0.0.1.tar.gz (1.1 kB)\nRequirement already satisfied: beautifulsoup4 in /root/venv/lib/python3.7/site-packages (from bs4==0.0.1) (4.10.0)\nRequirement already satisfied: soupsieve>1.2 in /root/venv/lib/python3.7/site-packages (from beautifulsoup4->bs4==0.0.1) (2.3.1)\nBuilding wheels for collected packages: bs4\n  Building wheel for bs4 (setup.py) ... \u001b[?25ldone\n\u001b[?25h  Created wheel for bs4: filename=bs4-0.0.1-py3-none-any.whl size=1272 sha256=dcef2f6561a80747f36dde00e2ee98764625d68a7f599d9a7b31487197bd0ea1\n  Stored in directory: /root/.cache/pip/wheels/0a/9e/ba/20e5bbc1afef3a491f0b3bb74d508f99403aabe76eda2167ca\nSuccessfully built bs4\nInstalling collected packages: bs4\nSuccessfully installed bs4-0.0.1\n\u001b[33mWARNING: You are using pip version 20.1.1; however, version 21.3.1 is available.\nYou should consider upgrading via the '/root/venv/bin/python -m pip install --upgrade pip' command.\u001b[0m\n",
     "output_type": "stream",
     "data": {}
    }
   ]
  },
  {
   "cell_type": "code",
   "metadata": {
    "tags": [],
    "cell_id": "00001-64e2f89b-2a45-4143-91f9-6c4f2dc130a9",
    "deepnote_to_be_reexecuted": false,
    "source_hash": "e594dc0e",
    "execution_start": 1641140151261,
    "execution_millis": 17221,
    "deepnote_cell_type": "code"
   },
   "source": "\nattente = pd.read_csv(\"data/donnee temps attente (avec numero INSEE).csv\")\ndensite = pd.read_csv(\"data/donnee densite.csv\")\nnuitees = pd.read_csv(\"data/data_nuités_communes.csv\")\nville = pd.read_csv(\"https://www.data.gouv.fr/fr/datasets/r/554590ab-ae62-40ac-8353-ee75162c05ee\", sep=\";\")",
   "execution_count": 5,
   "outputs": []
  },
  {
   "cell_type": "code",
   "metadata": {
    "tags": [],
    "cell_id": "00002-5b759e5b-139b-457b-b99c-25bd8e0abc04",
    "deepnote_to_be_reexecuted": false,
    "source_hash": "53a2fa65",
    "execution_start": 1641140171516,
    "execution_millis": 3,
    "deepnote_output_heights": [
     232.25
    ],
    "deepnote_cell_type": "code"
   },
   "source": "densite['Numéro'] = densite['Numéro'].apply(lambda x : '0'+x if len(x)==1 else x)",
   "execution_count": 6,
   "outputs": []
  },
  {
   "cell_type": "code",
   "metadata": {
    "tags": [],
    "cell_id": "00002-634752da-e239-482e-9de0-81f036e5fa6e",
    "deepnote_to_be_reexecuted": false,
    "source_hash": "9d73952b",
    "execution_start": 1641140173854,
    "execution_millis": 3,
    "deepnote_output_heights": [
     21.1875
    ],
    "deepnote_cell_type": "code"
   },
   "source": "nuitees.set_index(\"Numéro\", inplace = True)\ndensite.set_index(\"Numéro\", inplace = True)\nattente.set_index(\"Numéro INSEE\", inplace = True)\nville.set_index(\"Code_commune_INSEE\", inplace = True)",
   "execution_count": 7,
   "outputs": []
  },
  {
   "cell_type": "code",
   "metadata": {
    "tags": [],
    "cell_id": "00004-14052ea2-f577-4ddc-80b6-56e5c2a03401",
    "deepnote_to_be_reexecuted": false,
    "source_hash": "ea77317d",
    "execution_start": 1641140178517,
    "execution_millis": 55,
    "deepnote_output_heights": [
     21.1875
    ],
    "deepnote_cell_type": "code"
   },
   "source": "ville.loc['69123'] = ['LYON', 69001, float('nan'), 'LYON', '45.7577778,4.832222222222222']\nville.loc['13055'] = ['MARSEILLE', 13001, float('nan'), 'MARSEILLE', '43.2963889,5.369999999999999']\nville.loc['75056'] = ['PARIS', 75001, float('nan'), 'PARIS', '48.8566667,2.3519444444444444']",
   "execution_count": 8,
   "outputs": []
  },
  {
   "cell_type": "code",
   "metadata": {
    "tags": [],
    "cell_id": "00003-9ca88743-34d2-4607-952e-f5363cb9c13a",
    "deepnote_to_be_reexecuted": false,
    "source_hash": "c594bc58",
    "execution_start": 1641140181021,
    "execution_millis": 60955,
    "deepnote_output_heights": [
     117.125
    ],
    "deepnote_cell_type": "code"
   },
   "source": "dico_nuitees=dict()\ndico_densite=dict()\ndico_classement=dict()\nerreurs=[]\nfor idx in tqdm(attente.index):\n    dico_nuitees[idx] = list(nuitees.loc[idx[:2]])\n    dico_densite[idx] = list(densite.loc[idx[:2]])\n    \n    try : #certaines grandes villes ont plusieurs codes postaux \n        code_postal=str(ville.loc[idx, 'Code_postal'][0]) #on récupère le code postal de la commune\n        nom_ville=str(ville.loc[idx, 'Nom_commune'][0]).lower().replace(\" \",\"\")\n    except: #d'autres non\n        code_postal=str(ville.loc[idx, 'Code_postal']) #on récupère le code postal de la commune\n        nom_ville=str(ville.loc[idx, 'Nom_commune']).lower().replace(\" \",\"\")\n    url_classement=\"https://www.villesetvillagesouilfaitbonvivre.com/le-palmares/classement/\"+idx+\"/\"+code_postal+\"/\"+nom_ville+\"#city-ranking\"\n    request_text_2 = request.urlopen(url_classement).read()\n    page_2 = bs4.BeautifulSoup(request_text_2, \"lxml\")\n    div_du_classement= list((page_2.find(\"p\",{\"class\":'h1'})).stripped_strings)\n    dico_classement[idx] = div_du_classement[0]\n    ",
   "execution_count": 9,
   "outputs": [
    {
     "name": "stderr",
     "text": "100%|██████████| 314/314 [01:00<00:00,  5.16it/s]\n",
     "output_type": "stream",
     "data": {}
    }
   ]
  },
  {
   "cell_type": "code",
   "metadata": {
    "tags": [],
    "cell_id": "00006-f6f5284c-c733-46bf-aa08-14e9ded19ce5",
    "deepnote_to_be_reexecuted": false,
    "source_hash": "a25db226",
    "execution_start": 1641140251267,
    "execution_millis": 202,
    "deepnote_output_heights": [
     611
    ],
    "deepnote_cell_type": "code"
   },
   "source": "import json\nfichier_meteo = open(\"data/prefectures-sousprefectures.json\",\"r\")\nmeteo_dico = json.load(fichier_meteo)\nfichier_meteo.close()\nmeteo = pd.DataFrame(meteo_dico)\nmeteo.set_index(\"code_insee\", inplace = True)",
   "execution_count": 11,
   "outputs": []
  },
  {
   "cell_type": "code",
   "metadata": {
    "tags": [],
    "cell_id": "00007-717b3901-6d00-4516-9c2b-bd8f50f0d16b",
    "deepnote_to_be_reexecuted": false,
    "source_hash": "82b76a7a",
    "execution_start": 1641140255393,
    "execution_millis": 1,
    "deepnote_output_heights": [
     611
    ],
    "deepnote_cell_type": "code"
   },
   "source": "meteo.loc['44003']=[781.6,float('nan'), 12.7, float('nan'), float('nan')]\nmeteo.loc['51507']=[857,1682, float('nan'), float('nan'), 15507]",
   "execution_count": 12,
   "outputs": []
  },
  {
   "cell_type": "code",
   "metadata": {
    "tags": [],
    "cell_id": "00006-ac999687-7783-4835-baa5-c114d68aab0c",
    "deepnote_to_be_reexecuted": false,
    "source_hash": "c7d4816",
    "execution_start": 1641140300651,
    "execution_millis": 111,
    "deepnote_cell_type": "code"
   },
   "source": "nui = pd.DataFrame(dico_nuitees, index = nuitees.columns).T\ndel nui['Départements']\nden = pd.DataFrame(dico_densite, index = densite.columns).T\ndel den['Unnamed: 0']\ncla = pd.DataFrame(dico_classement, index = ['Classement']).T",
   "execution_count": 14,
   "outputs": []
  },
  {
   "cell_type": "code",
   "metadata": {
    "tags": [],
    "cell_id": "00008-74b3c7ee-ed3a-4e37-b224-017032c8b984",
    "deepnote_to_be_reexecuted": false,
    "source_hash": "78035c",
    "execution_start": 1641140304697,
    "execution_millis": 1,
    "deepnote_cell_type": "code"
   },
   "source": "total = pd.concat([attente, nui, den, cla, meteo], axis=1)",
   "execution_count": 15,
   "outputs": []
  },
  {
   "cell_type": "code",
   "metadata": {
    "tags": [],
    "cell_id": "00009-505324b3-3824-4918-a609-cc12a07325cf",
    "deepnote_to_be_reexecuted": false,
    "source_hash": "14f5dbd1",
    "execution_start": 1641140314407,
    "execution_millis": 11,
    "deepnote_cell_type": "code"
   },
   "source": "fichier = open(\"data/donnees concatenees.csv\",'w')\nfichier.write(total.to_csv())\nfichier.close()\n\n# total.to_csv(\"data/donnees concatenees.csv\")",
   "execution_count": 16,
   "outputs": []
  },
  {
   "cell_type": "code",
   "metadata": {
    "tags": [],
    "cell_id": "00010-b36ff671-3f1e-4f9a-b9f1-583aec6ccc75",
    "deepnote_to_be_reexecuted": false,
    "source_hash": "7d307f49",
    "execution_start": 1640857224374,
    "execution_millis": 16,
    "deepnote_cell_type": "code"
   },
   "source": "import pandas as pd\ntemps_attente = pd.read_csv(\"data/donnees concatenees.csv\")",
   "execution_count": null,
   "outputs": []
  },
  {
   "cell_type": "markdown",
   "source": "<a style='text-decoration:none;line-height:16px;display:flex;color:#5B5B62;padding:10px;justify-content:end;' href='https://deepnote.com?utm_source=created-in-deepnote-cell&projectId=2f812232-8ed1-4e89-8f48-597e10058637' target=\"_blank\">\n<img alt='Created in deepnote.com' style='display:inline;max-height:16px;margin:0px;margin-right:7.5px;' src='data:image/svg+xml;base64,PD94bWwgdmVyc2lvbj0iMS4wIiBlbmNvZGluZz0iVVRGLTgiPz4KPHN2ZyB3aWR0aD0iODBweCIgaGVpZ2h0PSI4MHB4IiB2aWV3Qm94PSIwIDAgODAgODAiIHZlcnNpb249IjEuMSIgeG1sbnM9Imh0dHA6Ly93d3cudzMub3JnLzIwMDAvc3ZnIiB4bWxuczp4bGluaz0iaHR0cDovL3d3dy53My5vcmcvMTk5OS94bGluayI+CiAgICA8IS0tIEdlbmVyYXRvcjogU2tldGNoIDU0LjEgKDc2NDkwKSAtIGh0dHBzOi8vc2tldGNoYXBwLmNvbSAtLT4KICAgIDx0aXRsZT5Hcm91cCAzPC90aXRsZT4KICAgIDxkZXNjPkNyZWF0ZWQgd2l0aCBTa2V0Y2guPC9kZXNjPgogICAgPGcgaWQ9IkxhbmRpbmciIHN0cm9rZT0ibm9uZSIgc3Ryb2tlLXdpZHRoPSIxIiBmaWxsPSJub25lIiBmaWxsLXJ1bGU9ImV2ZW5vZGQiPgogICAgICAgIDxnIGlkPSJBcnRib2FyZCIgdHJhbnNmb3JtPSJ0cmFuc2xhdGUoLTEyMzUuMDAwMDAwLCAtNzkuMDAwMDAwKSI+CiAgICAgICAgICAgIDxnIGlkPSJHcm91cC0zIiB0cmFuc2Zvcm09InRyYW5zbGF0ZSgxMjM1LjAwMDAwMCwgNzkuMDAwMDAwKSI+CiAgICAgICAgICAgICAgICA8cG9seWdvbiBpZD0iUGF0aC0yMCIgZmlsbD0iIzAyNjVCNCIgcG9pbnRzPSIyLjM3NjIzNzYyIDgwIDM4LjA0NzY2NjcgODAgNTcuODIxNzgyMiA3My44MDU3NTkyIDU3LjgyMTc4MjIgMzIuNzU5MjczOSAzOS4xNDAyMjc4IDMxLjY4MzE2ODMiPjwvcG9seWdvbj4KICAgICAgICAgICAgICAgIDxwYXRoIGQ9Ik0zNS4wMDc3MTgsODAgQzQyLjkwNjIwMDcsNzYuNDU0OTM1OCA0Ny41NjQ5MTY3LDcxLjU0MjI2NzEgNDguOTgzODY2LDY1LjI2MTk5MzkgQzUxLjExMjI4OTksNTUuODQxNTg0MiA0MS42NzcxNzk1LDQ5LjIxMjIyODQgMjUuNjIzOTg0Niw0OS4yMTIyMjg0IEMyNS40ODQ5Mjg5LDQ5LjEyNjg0NDggMjkuODI2MTI5Niw0My4yODM4MjQ4IDM4LjY0NzU4NjksMzEuNjgzMTY4MyBMNzIuODcxMjg3MSwzMi41NTQ0MjUgTDY1LjI4MDk3Myw2Ny42NzYzNDIxIEw1MS4xMTIyODk5LDc3LjM3NjE0NCBMMzUuMDA3NzE4LDgwIFoiIGlkPSJQYXRoLTIyIiBmaWxsPSIjMDAyODY4Ij48L3BhdGg+CiAgICAgICAgICAgICAgICA8cGF0aCBkPSJNMCwzNy43MzA0NDA1IEwyNy4xMTQ1MzcsMC4yNTcxMTE0MzYgQzYyLjM3MTUxMjMsLTEuOTkwNzE3MDEgODAsMTAuNTAwMzkyNyA4MCwzNy43MzA0NDA1IEM4MCw2NC45NjA0ODgyIDY0Ljc3NjUwMzgsNzkuMDUwMzQxNCAzNC4zMjk1MTEzLDgwIEM0Ny4wNTUzNDg5LDc3LjU2NzA4MDggNTMuNDE4MjY3Nyw3MC4zMTM2MTAzIDUzLjQxODI2NzcsNTguMjM5NTg4NSBDNTMuNDE4MjY3Nyw0MC4xMjg1NTU3IDM2LjMwMzk1NDQsMzcuNzMwNDQwNSAyNS4yMjc0MTcsMzcuNzMwNDQwNSBDMTcuODQzMDU4NiwzNy43MzA0NDA1IDkuNDMzOTE5NjYsMzcuNzMwNDQwNSAwLDM3LjczMDQ0MDUgWiIgaWQ9IlBhdGgtMTkiIGZpbGw9IiMzNzkzRUYiPjwvcGF0aD4KICAgICAgICAgICAgPC9nPgogICAgICAgIDwvZz4KICAgIDwvZz4KPC9zdmc+' > </img>\nCreated in <span style='font-weight:600;margin-left:4px;'>Deepnote</span></a>",
   "metadata": {
    "tags": [],
    "created_in_deepnote_cell": true,
    "deepnote_cell_type": "markdown"
   }
  }
 ],
 "nbformat": 4,
 "nbformat_minor": 2,
 "metadata": {
  "orig_nbformat": 2,
  "deepnote": {
   "is_reactive": false
  },
  "deepnote_notebook_id": "fcd23c35-3dfe-49fe-9442-3ff6b60b7f61",
  "deepnote_execution_queue": []
 }
}