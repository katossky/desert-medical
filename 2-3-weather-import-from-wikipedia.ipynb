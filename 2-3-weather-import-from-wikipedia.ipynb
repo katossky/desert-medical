{
 "cells": [
  {
   "cell_type": "markdown",
   "source": "### Importation des identifiants des villes",
   "metadata": {
    "tags": [],
    "cell_id": "00000-1fac4754-71e7-4ede-aae9-21f681577929",
    "deepnote_cell_type": "markdown"
   }
  },
  {
   "cell_type": "code",
   "metadata": {
    "tags": [],
    "cell_id": "00000-1698d9cf-c9d1-47b9-8beb-c446e0156ab7",
    "deepnote_to_be_reexecuted": false,
    "source_hash": "36cc8e0",
    "execution_start": 1641117487140,
    "execution_millis": 62,
    "deepnote_table_state": {
     "pageSize": 10,
     "pageIndex": 16,
     "filters": [],
     "sortBy": [
      {
       "id": "name",
       "type": "asc"
      }
     ]
    },
    "deepnote_table_loading": false,
    "deepnote_table_invalid": true,
    "deepnote_cell_type": "code"
   },
   "source": "import pandas as pd\n\nmunicipalities = pd.read_csv(\n    'data/2-0-municipalities.csv',\n    index_col=0\n)\n\nmunicipalities",
   "outputs": [
    {
     "output_type": "execute_result",
     "execution_count": 22,
     "data": {
      "application/vnd.deepnote.dataframe.v3+json": {
       "column_count": 1,
       "row_count": 314,
       "columns": [
        {
         "name": "name",
         "dtype": "object",
         "stats": {
          "unique_count": 314,
          "nan_count": 0,
          "categories": [
           {
            "name": "Abbeville",
            "count": 1
           },
           {
            "name": "Agen",
            "count": 1
           },
           {
            "name": "312 others",
            "count": 312
           }
          ]
         }
        },
        {
         "name": "_deepnote_index_column",
         "dtype": "object"
        }
       ],
       "rows": [
        {
         "name": "Lodève",
         "_deepnote_index_column": "34142"
        },
        {
         "name": "Lons-le-Saunier",
         "_deepnote_index_column": "39300"
        },
        {
         "name": "Lorient",
         "_deepnote_index_column": "56121"
        },
        {
         "name": "Louhans",
         "_deepnote_index_column": "71263"
        },
        {
         "name": "Lunéville",
         "_deepnote_index_column": "54329"
        },
        {
         "name": "Lure",
         "_deepnote_index_column": "70310"
        },
        {
         "name": "Lyon",
         "_deepnote_index_column": "69123"
        },
        {
         "name": "Mamers",
         "_deepnote_index_column": "72180"
        },
        {
         "name": "Mantes-la-Jolie",
         "_deepnote_index_column": "78361"
        },
        {
         "name": "Marmande",
         "_deepnote_index_column": "47157"
        }
       ]
      },
      "text/plain": "                          name\ninsee_code                    \n80001                Abbeville\n47001                     Agen\n13001          Aix-en-Provence\n2A004                  Ajaccio\n73011              Albertville\n...                        ...\n47323       Villeneuve-sur-Lot\n14762           Vire Normandie\n51649        Vitry-le-François\n08490                 Vouziers\n43268               Yssingeaux\n\n[314 rows x 1 columns]",
      "text/html": "<div>\n<style scoped>\n    .dataframe tbody tr th:only-of-type {\n        vertical-align: middle;\n    }\n\n    .dataframe tbody tr th {\n        vertical-align: top;\n    }\n\n    .dataframe thead th {\n        text-align: right;\n    }\n</style>\n<table border=\"1\" class=\"dataframe\">\n  <thead>\n    <tr style=\"text-align: right;\">\n      <th></th>\n      <th>name</th>\n    </tr>\n    <tr>\n      <th>insee_code</th>\n      <th></th>\n    </tr>\n  </thead>\n  <tbody>\n    <tr>\n      <th>80001</th>\n      <td>Abbeville</td>\n    </tr>\n    <tr>\n      <th>47001</th>\n      <td>Agen</td>\n    </tr>\n    <tr>\n      <th>13001</th>\n      <td>Aix-en-Provence</td>\n    </tr>\n    <tr>\n      <th>2A004</th>\n      <td>Ajaccio</td>\n    </tr>\n    <tr>\n      <th>73011</th>\n      <td>Albertville</td>\n    </tr>\n    <tr>\n      <th>...</th>\n      <td>...</td>\n    </tr>\n    <tr>\n      <th>47323</th>\n      <td>Villeneuve-sur-Lot</td>\n    </tr>\n    <tr>\n      <th>14762</th>\n      <td>Vire Normandie</td>\n    </tr>\n    <tr>\n      <th>51649</th>\n      <td>Vitry-le-François</td>\n    </tr>\n    <tr>\n      <th>08490</th>\n      <td>Vouziers</td>\n    </tr>\n    <tr>\n      <th>43268</th>\n      <td>Yssingeaux</td>\n    </tr>\n  </tbody>\n</table>\n<p>314 rows × 1 columns</p>\n</div>"
     },
     "metadata": {}
    }
   ],
   "execution_count": 1
  },
  {
   "cell_type": "markdown",
   "source": "### Recherche de données météorologiques\n\nLa plupart des applications météorologiques avec API trouvées par une rechercher par mot-clé sont malheureusement payantes. Nous décidons d'avoir alors recours à Wikipedia, au risque de données incomplètes.\n\nLa plupart des article de ville sur Wikipédia possèdent en effet une section \"climat\" qui possède généralement un tableau de variables climatiques moyennes mensuelles / annuelles, notamment la température, les précipitations et . Ce tableau est souvent structuré de la même façon, mais pas systématiquement.\n\n### Extraction proprement dite\n\nLa fonction suivante récupère les informations dans les cas les plus classiques.\n\n\n",
   "metadata": {
    "tags": [],
    "cell_id": "00002-c1153d56-9bda-43ee-8f13-809c7d480ba7",
    "deepnote_cell_type": "markdown"
   }
  },
  {
   "cell_type": "code",
   "source": "from bs4 import BeautifulSoup\nfrom urllib.request import urlopen\nfrom urllib.parse import quote\nimport pandas as pd\n\ndef read_wiki(city_name, verbose=0):\n\n    # default result with everything NA\n    result = {\n        \"solar_exposure\" : pd.NA,\n        \"precipitation\" :  pd.NA,\n        \"temperature\" :    pd.NA,\n    }\n    \n    url = \"https://fr.wikipedia.org/wiki/\"+quote(city_name)\n\n    with urlopen(url) as page:\n\n        if verbose >= 1:\n            print('✅ URL valid', end=\"\")\n\n        parsed_page = BeautifulSoup(page)\n\n        # the id climate is hosted in a span inside a h3 title\n\n        local_climate_title = parsed_page.find(id=\"Climat\")\n\n        if local_climate_title is None :\n            print(' 😵 no #climate tag found')\n            return(result)\n\n        if verbose >= 1:\n            print(' ✅ #climate tag found', end=\"\")\n        local_climate_title = local_climate_title.parent\n\n        # the table with temperatures comes after this title,\n        # at the same level as the climate title in the page body\n        # but BEFORE the next h3 tag\n\n        local_climate_table = None\n\n        for tag in local_climate_title.next_siblings:\n\n            if tag.name=='table' :\n                local_climate_table = tag\n                if verbose >= 1:\n                    print(' ✅ table found', end='')\n                break\n\n            if tag.name=='h3' :\n                break\n        \n        # if we found an other h3, it means the section has ended\n        # without finding any tables, and we skip the rest\n\n        if tag.name=='h3' :\n            print(' 😵 no table found')\n            return(result)\n        \n        local_climate_data = pd.read_html(\n            str(local_climate_table),\n            decimal=',', thousands=' ',\n            index_col = 0\n        )[0]\n        # pd.read_html() returns a list of tables,\n        # here containing only one table\n        # (this explains the [0] at the end)\n        \n        if 'année' not in local_climate_data.columns:\n\n            print(' 😵 no column \"année\"')\n            return(result)\n            \n        else:\n\n            if 'Précipitations (mm)' in local_climate_data.index:\n                print(' ✅ prec', end=\"\")\n                prec = local_climate_data.loc['Précipitations (mm)','année']\n                if isinstance(prec, str) :\n                    result['precipitation'] = float( prec.replace(\",\", \".\").replace('\\xa0', \"\") )\n            else :\n                print(' ❌ prec', end=\"\")\n            \n            if 'Ensoleillement (h)' in local_climate_data.index :\n                print(' ✅ enso', end=\"\")\n                enso = local_climate_data.loc['Ensoleillement (h)','année']\n                if isinstance(enso, str) :\n                    result['solar_exposure'] = float( enso.replace(\",\", \".\").replace('\\xa0', \"\") )\n            else :\n                print(' ❌ enso', end=\"\")\n            \n            if 'Température moyenne (°C)' in local_climate_data.index:\n                print(' ✅ temp', end=\"\")\n                temp = local_climate_data.loc['Température moyenne (°C)','année']\n                if isinstance(temp, str) :\n                    result['temperature'] = float( temp.replace(\",\", \".\").replace('\\xa0', \"\") )\n            else :\n                print(' ❌ temp', end=\"\")\n    \n    print('')\n    return(result)",
   "metadata": {
    "tags": [],
    "cell_id": "00003-22cff42d-816e-4833-acb1-4d1b08a15141",
    "deepnote_to_be_reexecuted": false,
    "source_hash": "412329e9",
    "execution_start": 1641121525463,
    "execution_millis": 3,
    "deepnote_cell_type": "code"
   },
   "outputs": [],
   "execution_count": 28
  },
  {
   "cell_type": "markdown",
   "source": "... et l'on peut tester cette fonction sur la ville d'Angoulême (la page de Poitiers est un peu particulière, en ce sens que le tableau des données climatiques standard est le deuxième de la section, et non pas le premier):",
   "metadata": {
    "tags": [],
    "cell_id": "00004-e5513e45-64f9-4548-bd75-b829f4b8de97",
    "deepnote_cell_type": "markdown"
   }
  },
  {
   "cell_type": "code",
   "source": "read_wiki(\"Angoulême\")",
   "metadata": {
    "tags": [],
    "cell_id": "00004-388d6666-d590-4cc1-8463-9e19cb3a0f69",
    "deepnote_to_be_reexecuted": false,
    "source_hash": "27a249dc",
    "execution_start": 1641121530883,
    "execution_millis": 705,
    "deepnote_output_heights": [
     null,
     21.1875
    ],
    "deepnote_cell_type": "code"
   },
   "outputs": [
    {
     "name": "stdout",
     "text": " ✅ prec ✅ enso ✅ temp\n",
     "output_type": "stream",
     "data": {}
    },
    {
     "output_type": "execute_result",
     "execution_count": 29,
     "data": {
      "text/plain": "{'solar_exposure': 2089.3, 'precipitation': 843.2, 'temperature': 12.8}"
     },
     "metadata": {}
    }
   ],
   "execution_count": 29
  },
  {
   "cell_type": "markdown",
   "source": "Les problèmes suivants ont été identifiés, dont certains (points 1 et 2) pourraient être traités dans le futur, mais la liste n'est probablement pas exhaustive:\n\n1. le tableau est présent mais pas à la place habituelle (ex: Agen, Poitiers)\n2. le tableau est structuré différemment pour permettre à l'utilisateur de le replier (ex: Abbeville)\n3. pas de tableau (ex: Autun)\n4. pas de colonne année dans le tableau (ex: Lunnéville)",
   "metadata": {
    "tags": [],
    "cell_id": "00004-0c13750a-9f90-482a-8946-c01e87c1fbb7",
    "deepnote_cell_type": "markdown"
   }
  },
  {
   "cell_type": "markdown",
   "source": "### Systématisation\n\nDernier obstacle: les pages de Wikipedia peuvent être ambigues. Il existe par exemple plusieurs pages \"Argenteuil\" et le nom final de la page Wikipédia n'est pas prévisible. Par exemple on aura \"Cognac (ville)\" (par opposition à \"Cognac (boisson)\") mais \"Argenteuil (Val-d'Oise)\". Identifier les bonnes pages est processus essentiellement artisanal.\n\nLe code suivant récupère les donnés pour l'ensemble des communes. (Dans les commentaires, le code INSEE serait nécessaire pour lever l'ambiguité entre Saint-Pierre (Martinique) et Saint-Pierre (La Réunion) ou entre Saint-Denis (La Réunion) et Saint-Denis (Seine-Saint-Denis), mais ces préfectures n'ont pas été traitées par _Marianne_.)",
   "metadata": {
    "tags": [],
    "cell_id": "00007-d9f7a9af-7c1a-4ef9-b8f2-c1fca8a6e206",
    "deepnote_cell_type": "markdown"
   }
  },
  {
   "cell_type": "code",
   "source": "def get_wiki_name(munipality_name) :\n\n    # Python 10 and higher\n\n    # match munipality_name: #\n    #    case 'Chaumont':\n    #        return(\"Chaumont (Haute-Marne)\")\n\n    elif municipality_name==\"Argenteuil\" :\n        return \"Argenteuil (Val-d'Oise)\" \n    elif municipality_name==\"Aubusson\" :\n        return \"Aubusson (Creuse)\" \n    elif municipality_name==\"Bergerac\" :\n        return \"Bergerac (Dordogne)\" \n    elif municipality_name==\"Bernay\" :\n        return \"Bernay (Eure)\"             \n    elif municipality_name==\"Bonnemunicipality_name\" :\n        return \"Bonnemunicipality_name (Haute-Savoie)\" \n    if munipality_name=='Chaumont' :\n        return \"Chaumont (Haute-Marne)\"\n    elif municipality_name==\"Clamecy\" :\n        return \"Clamecy (Nièvre)\" \n    elif municipality_name==\"Clermont\" :\n        return \"Clermont (Oise)\" \n    elif municipality_name==\"Cognac\" :\n        return \"Cognac (Charente)\" \n    elif municipality_name==\"Condom\" :\n        return \"Condom (Gers)\" \n    elif municipality_name==\"Die\" :\n        return \"Die (Drôme)\" \n    elif municipality_name==\"Dieppe\" :\n        return \"Dieppe (Seine-Maritime)\" \n    elif municipality_name==\"Dole\" :\n        return \"Dole (Jura)\" \n    elif municipality_name==\"Gourdon\" :\n        return \"Gourdon (Lot)\" \n    elif municipality_name==\"La Trinité\" :\n        return \"La Trinité (Martinique)\" \n    elif municipality_name==\"Langon\" :\n        return \"Langon (Gironde)\" \n    elif municipality_name==\"Laval\" :\n        return \"Laval (Mayenne)\"          \n    elif municipality_name==\"Le Blanc\" :\n        return \"Le Blanc (Indre)\" \n    elif municipality_name==\"Le Vigan\" :\n        return \"Le Vigan (Gard)\" \n    elif municipality_name==\"Lens\" :\n        return \"Lens (Pas-de-Calais)\" \n    elif municipality_name==\"Mauriac\" :\n        return \"Mauriac (Cantal)\" \n    elif municipality_name==\"Mayenne\" :\n        return \"Mayenne (commune)\"\n    elif municipality_name==\"Mende\" :\n        return \"Mende (Lozère)\"\n    elif municipality_name==\"Montdidier\" :\n        return \"Montdidier (Somme)\" \n    elif municipality_name==\"Montreuil\" :\n        return \"Montreuil (Pas-de-Calais)\"\n    elif municipality_name==\"Moulins\" :\n        return \"Moulins (Allier)\"\n    elif municipality_name==\"Muret\" :\n        return \"Muret (Haute-Garonne)\" \n    elif municipality_name==\"Neufchâteau\" :\n        return \"Neufchâteau (Vosges)\" \n    elif municipality_name==\"Prades\" :\n        return \"Prades (Pyrénées-Orientales)\" \n    elif municipality_name==\"Péronne\" :\n        return \"Péronne (Somme)\" \n    elif municipality_name==\"Pontoise\" :\n        return \"Pontoise (Chef-lieu)\"\n    elif municipality_name==\"Rochechouart\" :\n        return \"Rochechouart (Haute-Vienne)\" \n    elif municipality_name==\"Rochefort\" :\n        return \"Rochefort (Charente-Maritime)\" \n    elif municipality_name==\"Saint-Benoît\" :\n        return \"Saint-Benoît (La Réunion)\" \n    elif municipality_name==\"Saint-Claude\" :\n        return \"Saint-Claude (Jura)\" \n    elif municipality_name==\"Saint-Denis\" :\n        return \"Saint-Denis (Seine-Saint-Denis)\"\n    # elif municipality_name==\"Saint-Denis\" and municipality_code == :\n    #     return \"Saint-Denis (La Réunion)\"\n    elif municipality_name==\"Saint-Flour\" :\n        return \"Saint-Flour (Cantal)\" \n    elif municipality_name==\"Saint-Girons\" :\n        return \"Saint-Girons (Ariège)\" \n    elif municipality_name==\"Saint-Omer\" :\n        return \"Saint-Omer (Pas-de-Calais)\" \n    elif municipality_name==\"Saint-Paul\" :\n        return \"Saint-Paul (La Réunion)\" \n    # elif municipality_name==\"Saint-Pierre\" and municipality_code == :\n    #     return \"Saint-Pierre (Martinique)\"\n    # elif municipality_name==\"Saint-Pierre\" and municipality_code == :\n    #     return \"Saint-Pierre (La Réunion)\"\n    elif municipality_name==\"Senlis\" :\n        return \"Senlis (Oise)\" \n    elif municipality_name==\"Sens\" :\n        return \"Sens (Yonne)\" \n    elif municipality_name==\"Torcy\" :\n        return \"Torcy (Seine-et-Marne)\" \n    elif municipality_name==\"Ussel\" :\n        return \"Ussel (Corrèze)\" \n    elif municipality_name==\"Valence\" :\n        return \"Valence (Drôme)\"\n    elif municipality_name==\"Vienne\" :\n        return \"Vienne (Isère)\"",
   "metadata": {
    "tags": [],
    "cell_id": "00008-d9748bc4-50dd-4023-96f0-dd480b78cbf4",
    "deepnote_to_be_reexecuted": false,
    "source_hash": "102f81e7",
    "execution_start": 1641120641274,
    "execution_millis": 1,
    "deepnote_cell_type": "code"
   },
   "outputs": [],
   "execution_count": 20
  },
  {
   "cell_type": "code",
   "source": "get_wiki_name(\"Chaumont\")",
   "metadata": {
    "tags": [],
    "cell_id": "00009-fcc240bb-82a7-4fd1-96c0-9fd2ee7d3ffe",
    "deepnote_to_be_reexecuted": false,
    "source_hash": "15bb60f4",
    "execution_start": 1641120644497,
    "execution_millis": 7,
    "deepnote_output_heights": [
     21.1875
    ],
    "deepnote_cell_type": "code"
   },
   "outputs": [
    {
     "output_type": "execute_result",
     "execution_count": 21,
     "data": {
      "text/plain": "'Chaumont (Haute-Marne)'"
     },
     "metadata": {}
    }
   ],
   "execution_count": 21
  },
  {
   "cell_type": "markdown",
   "source": "Il est alors possible de requêter les pages Wikipédia les unes après les autres:",
   "metadata": {
    "tags": [],
    "cell_id": "00010-8b7ec939-61eb-457b-ba6a-990f826af0eb",
    "deepnote_cell_type": "markdown"
   }
  },
  {
   "cell_type": "code",
   "source": "weather = []\n\nfor code, values in municipalities.iterrows():    \n\n    municipality_name =  values[0]\n    wiki_name = get_wiki_name(municipality_name)\n\n    print('📍 '+ municipality_name.ljust(32), end='')\n    \n    weather.append( read_wiki( wiki_name ) )",
   "metadata": {
    "tags": [],
    "cell_id": "00005-78f23299-de2d-42c7-82d9-8f804f13778a",
    "deepnote_to_be_reexecuted": false,
    "source_hash": "c8774ae4",
    "execution_start": 1641121727569,
    "execution_millis": 278450,
    "deepnote_cell_type": "code"
   },
   "outputs": [
    {
     "name": "stdout",
     "text": "📍 Abbeville                        - 😵 no table found\n📍 Agen                             - 😵 no column \"année\"\n📍 Aix-en-Provence                  ✅ prec ✅ enso ✅ temp\n📍 Ajaccio                          ✅ prec ✅ enso ✅ temp\n📍 Albertville                      - 😵 no table found\n📍 Albi                             ✅ prec ✅ enso ✅ temp\n📍 Alençon                          - 😵 no column \"année\"\n📍 Alès                             ✅ prec ❌ enso ✅ temp\n📍 Altkirch                         - 😵 no table found\n📍 Ambert                           ✅ prec ✅ enso ✅ temp\n📍 Amiens                           ✅ prec ❌ enso ✅ temp\n📍 Ancenis-Saint-Géréon             - 😵 no column \"année\"\n📍 Angers                           ✅ prec ✅ enso ✅ temp\n📍 Angoulême                        ✅ prec ✅ enso ✅ temp\n📍 Annecy                           ✅ prec ✅ enso ✅ temp\n📍 Apt                              ✅ prec ❌ enso ❌ temp\n📍 Arcachon                         - 😵 no column \"année\"\n📍 Argelès-Gazost                   - 😵 no column \"année\"\n📍 Argentan                         - 😵 no table found\n📍 Argenteuil                       - 😵 no column \"année\"\n📍 Arles                            ✅ prec ❌ enso ✅ temp\n📍 Arras                            ✅ prec ❌ enso ✅ temp\n📍 Aubusson                         - 😵 no column \"année\"\n📍 Auch                             ✅ prec ✅ enso ✅ temp\n📍 Aurillac                         ✅ prec ✅ enso ✅ temp\n📍 Autun                            - 😵 no table found\n📍 Auxerre                          ✅ prec ✅ enso ✅ temp\n📍 Avallon                          ✅ prec ❌ enso ✅ temp\n📍 Avesnes-sur-Helpe                - 😵 no column \"année\"\n📍 Avignon                          ✅ prec ❌ enso ✅ temp\n📍 Avranches                        - 😵 no column \"année\"\n📍 Bagnères-de-Bigorre              - 😵 no column \"année\"\n📍 Bar-le-Duc                       - 😵 no column \"année\"\n📍 Bar-sur-Aube                     - 😵 no table found\n📍 Barcelonnette                    - 😵 no table found\n📍 Bastia                           - 😵 no #climate tag found\n📍 Bayeux                           ✅ prec ❌ enso ✅ temp\n📍 Bayonne                          ✅ prec ❌ enso ✅ temp\n📍 Beaune                           ✅ prec ❌ enso ✅ temp\n📍 Beauvais                         ✅ prec ✅ enso ✅ temp\n📍 Belfort                          ✅ prec ❌ enso ✅ temp\n📍 Bellac                           - 😵 no column \"année\"\n📍 Belley                           ✅ prec ❌ enso ✅ temp\n📍 Bergerac                         - 😵 no column \"année\"\n📍 Bernay                           - 😵 no column \"année\"\n📍 Besançon                         ✅ prec ✅ enso ✅ temp\n📍 Béthune                          - 😵 no table found\n📍 Béziers                          ✅ prec ❌ enso ✅ temp\n📍 Blaye                            - 😵 no column \"année\"\n📍 Blois                            ✅ prec ✅ enso ✅ temp\n📍 Bonneville                       - 😵 no #climate tag found\n📍 Bordeaux                         - 😵 no column \"année\"\n📍 Boulogne-sur-Mer                 ✅ prec ❌ enso ✅ temp\n📍 Bourg-en-Bresse                  ✅ prec ✅ enso ✅ temp\n📍 Bourges                          ✅ prec ✅ enso ✅ temp\n📍 Bressuire                        - 😵 no column \"année\"\n📍 Brest                            ✅ prec ✅ enso ✅ temp\n📍 Briançon                         ✅ prec ❌ enso ✅ temp\n📍 Brignoles                        - 😵 no table found\n📍 Brioude                          - 😵 no column \"année\"\n📍 Brive-la-Gaillarde               - 😵 no column \"année\"\n📍 Caen                             ✅ prec ✅ enso ✅ temp\n📍 Cahors                           - 😵 no column \"année\"\n📍 Calais                           ✅ prec ❌ enso ✅ temp\n📍 Calvi                            - 😵 no #climate tag found\n📍 Cambrai                          ✅ prec ❌ enso ✅ temp\n📍 Carcassonne                      - 😵 no column \"année\"\n📍 Carpentras                       - 😵 no column \"année\"\n📍 Castellane                       - 😵 no table found\n📍 Castelsarrasin                   - 😵 no column \"année\"\n📍 Castres                          ✅ prec ❌ enso ✅ temp\n📍 Céret                            - 😵 no column \"année\"\n📍 Cergy                            - 😵 no column \"année\"\n📍 Chalon-sur-Saône                 ✅ prec ✅ enso ✅ temp\n📍 Châlons-en-Champagne             - 😵 no #climate tag found\n📍 Chambéry                         - 😵 no table found\n📍 Charleville-Mézières             ✅ prec ✅ enso ❌ temp\n📍 Charolles                        - 😵 no #climate tag found\n📍 Chartres                         - 😵 no column \"année\"\n📍 Château-Chinon                   - 😵 no #climate tag found\n📍 Château-Gontier-sur-Mayenne      - 😵 no column \"année\"\n📍 Château-Thierry                  - 😵 no column \"année\"\n📍 Châteaubriant                    - 😵 no column \"année\"\n📍 Châteaudun                       - 😵 no column \"année\"\n📍 Châteaulin                       - 😵 no column \"année\"\n📍 Châteauroux                      ✅ prec ✅ enso ✅ temp\n📍 Châtellerault                    - 😵 no column \"année\"\n📍 Chaumont                         - 😵 no table found\n📍 Cherbourg-en-Cotentin            - 😵 no column \"année\"\n📍 Chinon                           - 😵 no table found\n📍 Cholet                           - 😵 no column \"année\"\n📍 Clamecy                          ✅ prec ❌ enso ❌ temp\n📍 Clermont                         ✅ prec ❌ enso ✅ temp\n📍 Clermont-Ferrand                 ✅ prec ✅ enso ✅ temp\n📍 Cognac                           ✅ prec ✅ enso ✅ temp\n📍 Colmar                           ✅ prec ✅ enso ✅ temp\n📍 Commercy                         ✅ prec ✅ enso ✅ temp\n📍 Compiègne                        ✅ prec ❌ enso ✅ temp\n📍 Condom                           - 😵 no column \"année\"\n📍 Confolens                        - 😵 no #climate tag found\n📍 Corte                            - 😵 no #climate tag found\n📍 Cosne-Cours-sur-Loire            - 😵 no #climate tag found\n📍 Coutances                        ✅ prec ❌ enso ✅ temp\n📍 Dax                              - 😵 no table found\n📍 Die                              - 😵 no table found\n📍 Dieppe                           ✅ prec ❌ enso ✅ temp\n📍 Digne-les-Bains                  ✅ prec ✅ enso ✅ temp\n📍 Dijon                            ✅ prec ✅ enso ✅ temp\n📍 Dinan                            - 😵 no column \"année\"\n📍 Dole                             ✅ prec ❌ enso ✅ temp\n📍 Douai                            - 😵 no column \"année\"\n📍 Draguignan                       - 😵 no column \"année\"\n📍 Dreux                            - 😵 no column \"année\"\n📍 Dunkerque                        - 😵 no table found\n📍 Épernay                          ✅ prec ❌ enso ❌ temp\n📍 Épinal                           ✅ prec ✅ enso ✅ temp\n📍 Étampes                          ✅ prec ✅ enso ✅ temp\n📍 Évreux                           ✅ prec ✅ enso ❌ temp\n📍 Évry-Courcouronnes               - 😵 no table found\n📍 Figeac                           - 😵 no column \"année\"\n📍 Florac Trois Rivières            - 😵 no column \"année\"\n📍 Foix                             - 😵 no column \"année\"\n📍 Fontainebleau                    ✅ prec ❌ enso ✅ temp\n📍 Fontenay-le-Comte                - 😵 no #climate tag found\n📍 Forbach                          - 😵 no #climate tag found\n📍 Forcalquier                      ✅ prec ❌ enso ✅ temp\n📍 Fougères                         - 😵 no column \"année\"\n📍 Gap                              - 😵 no column \"année\"\n📍 Gex                              ✅ prec ❌ enso ✅ temp\n📍 Gourdon                          - 😵 no column \"année\"\n📍 Grasse                           - 😵 no column \"année\"\n📍 Grenoble                         ✅ prec ❌ enso ✅ temp\n📍 Guéret                           ✅ prec ❌ enso ✅ temp\n📍 Guingamp                         - 😵 no column \"année\"\n📍 Haguenau                         ✅ prec ❌ enso ✅ temp\n📍 Issoire                          ✅ prec ❌ enso ✅ temp\n📍 Issoudun                         ✅ prec ✅ enso ✅ temp\n📍 Istres                           - 😵 no table found\n📍 Jonzac                           - 😵 no column \"année\"\n📍 La Châtre                        ✅ prec ✅ enso ✅ temp\n📍 La Flèche                        ✅ prec ✅ enso ❌ temp\n📍 La Roche-sur-Yon                 - 😵 no column \"année\"\n📍 La Rochelle                      ✅ prec ✅ enso ✅ temp\n📍 La Tour-du-Pin                   - 😵 no column \"année\"\n📍 Langon                           - 😵 no column \"année\"\n📍 Langres                          - 😵 no column \"année\"\n📍 Lannion                          - 😵 no column \"année\"\n📍 Laon                             - 😵 no table found\n📍 Largentière                      - 😵 no #climate tag found\n📍 Laval                            - 😵 no #climate tag found\n📍 Le Blanc                         ✅ prec ✅ enso ✅ temp\n📍 Le Havre                         ✅ prec ❌ enso ✅ temp\n📍 Le Mans                          ✅ prec ✅ enso ✅ temp\n📍 Le Puy-en-Velay                  - 😵 no column \"année\"\n📍 Le Vigan                         - 😵 no column \"année\"\n📍 Lens                             ✅ prec ❌ enso ❌ temp\n📍 Les Andelys                      - 😵 no column \"année\"\n📍 Les Sables-d'Olonne              ✅ prec ✅ enso ❌ temp\n📍 Lesparre-Médoc                   ✅ prec ❌ enso ✅ temp\n📍 Libourne                         - 😵 no column \"année\"\n📍 Lille                            ✅ prec ✅ enso ✅ temp\n📍 Limoges                          - 😵 no column \"année\"\n📍 Limoux                           ✅ prec ❌ enso ✅ temp\n📍 Lisieux                          - 😵 no table found\n📍 Loches                           - 😵 no #climate tag found\n📍 Lodève                           - 😵 no column \"année\"\n📍 Lons-le-Saunier                  ✅ prec ✅ enso ✅ temp\n📍 Lorient                          ✅ prec ✅ enso ✅ temp\n📍 Louhans                          - 😵 no column \"année\"\n📍 Lunéville                        - 😵 no column \"année\"\n📍 Lure                             - 😵 no column \"année\"\n📍 Lyon                             ✅ prec ✅ enso ✅ temp\n📍 Mâcon                            ✅ prec ✅ enso ✅ temp\n📍 Mamers                           - 😵 no #climate tag found\n📍 Mantes-la-Jolie                  - 😵 no #climate tag found\n📍 Marmande                         - 😵 no column \"année\"\n📍 Marseille                        ✅ prec ✅ enso ✅ temp\n📍 Mauriac                          ✅ prec ❌ enso ✅ temp\n📍 Mayenne                          - 😵 no column \"année\"\n📍 Meaux                            - 😵 no table found\n📍 Melun                            ✅ prec ✅ enso ❌ temp\n📍 Mende                            - 😵 no #climate tag found\n📍 Metz                             - 😵 no column \"année\"\n📍 Millau                           ✅ prec ✅ enso ✅ temp\n📍 Mirande                          - 😵 no column \"année\"\n📍 Molsheim                         - 😵 no table found\n📍 Mont-de-Marsan                   ✅ prec ✅ enso ✅ temp\n📍 Montargis                        - 😵 no #climate tag found\n📍 Montauban                        ✅ prec ✅ enso ✅ temp\n📍 Montbard                         - 😵 no #climate tag found\n📍 Montbéliard                      ✅ prec ❌ enso ❌ temp\n📍 Montbrison                       ✅ prec ❌ enso ✅ temp\n📍 Montdidier                       - 😵 no table found\n📍 Montluçon                        ✅ prec ❌ enso ✅ temp\n📍 Montmorillon                     - 😵 no column \"année\"\n📍 Montpellier                      ✅ prec ✅ enso ✅ temp\n📍 Montreuil                        ✅ prec ✅ enso ✅ temp\n📍 Morlaix                          - 😵 no column \"année\"\n📍 Mortagne-au-Perche               - 😵 no column \"année\"\n📍 Moulins                          - 😵 no #climate tag found\n📍 Mulhouse                         - 😵 no column \"année\"\n📍 Muret                            - 😵 no column \"année\"\n📍 Nancy                            ✅ prec ❌ enso ✅ temp\n📍 Nantes                           - 😵 no table found\n📍 Nantua                           ✅ prec ❌ enso ✅ temp\n📍 Narbonne                         ✅ prec ❌ enso ✅ temp\n📍 Nérac                            - 😵 no column \"année\"\n📍 Neufchâteau                      - 😵 no #climate tag found\n📍 Nevers                           ✅ prec ✅ enso ✅ temp\n📍 Nice                             ✅ prec ✅ enso ✅ temp\n📍 Nîmes                            ✅ prec ✅ enso ✅ temp\n📍 Niort                            - 😵 no column \"année\"\n📍 Nogent-le-Rotrou                 - 😵 no table found\n📍 Nogent-sur-Seine                 - 😵 no #climate tag found\n📍 Nontron                          - 😵 no column \"année\"\n📍 Nyons                            - 😵 no table found\n📍 Oloron-Sainte-Marie              - 😵 no column \"année\"\n📍 Orléans                          ✅ prec ✅ enso ✅ temp\n📍 Palaiseau                        ✅ prec ✅ enso ✅ temp\n📍 Pamiers                          - 😵 no column \"année\"\n📍 Paris                            ✅ prec ✅ enso ✅ temp\n📍 Parthenay                        - 😵 no column \"année\"\n📍 Pau                              ✅ prec ✅ enso ✅ temp\n📍 Périgueux                        - 😵 no column \"année\"\n📍 Péronne                          - 😵 no table found\n📍 Perpignan                        - 😵 no column \"année\"\n📍 Pithiviers                       ✅ prec ❌ enso ✅ temp\n📍 Poitiers                         - 😵 no column \"année\"\n📍 Pontarlier                       - 😵 no table found\n📍 Pontivy                          ✅ prec ❌ enso ✅ temp\n📍 Pontoise                         ✅ prec ❌ enso ❌ temp\n📍 Prades                           - 😵 no column \"année\"\n📍 Privas                           ✅ prec ✅ enso ✅ temp\n📍 Provins                          - 😵 no column \"année\"\n📍 Quimper                          ✅ prec ✅ enso ✅ temp\n📍 Rambouillet                      - 😵 no table found\n📍 Redon                            - 😵 no #climate tag found\n📍 Reims                            ✅ prec ❌ enso ✅ temp\n📍 Rennes                           ✅ prec ✅ enso ✅ temp\n📍 Rethel                           - 😵 no #climate tag found\n📍 Riom                             - 😵 no column \"année\"\n📍 Roanne                           ✅ prec ❌ enso ✅ temp\n📍 Rochechouart                     - 😵 no column \"année\"\n📍 Rochefort                        ✅ prec ❌ enso ✅ temp\n📍 Rodez                            - 😵 no table found\n📍 Romorantin-Lanthenay             - 😵 no table found\n📍 Rouen                            ✅ prec ✅ enso ✅ temp\n📍 Saint-Amand-Montrond             - 😵 no #climate tag found\n📍 Saint-Brieuc                     - 😵 no column \"année\"\n📍 Saint-Claude                     - 😵 no #climate tag found\n📍 Saint-Dié-des-Vosges             - 😵 no #climate tag found\n📍 Saint-Dizier                     - 😵 no column \"année\"\n📍 Saint-Étienne                    - 😵 no column \"année\"\n📍 Saint-Flour                      ✅ prec ❌ enso ✅ temp\n📍 Saint-Gaudens                    - 😵 no column \"année\"\n📍 Saint-Germain-en-Laye            - 😵 no table found\n📍 Saint-Girons                     ✅ prec ❌ enso ✅ temp\n📍 Saint-Jean-d'Angély              ✅ prec ✅ enso ✅ temp\n📍 Saint-Jean-de-Maurienne          - 😵 no table found\n📍 Saint-Julien-en-Genevois         - 😵 no table found\n📍 Saint-Lô                         - 😵 no table found\n📍 Saint-Malo                       ✅ prec ✅ enso ❌ temp\n📍 Saint-Nazaire                    ✅ prec ✅ enso ✅ temp\n📍 Saint-Omer                       ✅ prec ❌ enso ✅ temp\n📍 Saint-Quentin                    ✅ prec ✅ enso ✅ temp\n📍 Sainte-Menehould                 ✅ prec ✅ enso ❌ temp\n📍 Saintes                          ✅ prec ❌ enso ✅ temp\n📍 Sarcelles                        - 😵 no column \"année\"\n📍 Sarlat-la-Canéda                 - 😵 no column \"année\"\n📍 Sarrebourg                       - 😵 no #climate tag found\n📍 Sarreguemines                    - 😵 no table found\n📍 Sartène                          - 😵 no #climate tag found\n📍 Saumur                           - 😵 no column \"année\"\n📍 Saverne                          - 😵 no table found\n📍 Sedan                            - 😵 no table found\n📍 Segré-en-Anjou Bleu              - 😵 no column \"année\"\n📍 Sélestat                         ✅ prec ✅ enso ❌ temp\n📍 Senlis                           ✅ prec ❌ enso ❌ temp\n📍 Sens                             ✅ prec ❌ enso ✅ temp\n📍 Soissons                         - 😵 no #climate tag found\n📍 Strasbourg                       - 😵 no column \"année\"\n📍 Tarbes                           - 😵 no column \"année\"\n📍 Thann                            - 😵 no table found\n📍 Thiers                           ✅ prec ❌ enso ✅ temp\n📍 Thionville                       - 😵 no #climate tag found\n📍 Thonon-les-Bains                 - 😵 no table found\n📍 Torcy                            - 😵 no table found\n📍 Toul                             - 😵 no #climate tag found\n📍 Toulon                           - 😵 no column \"année\"\n📍 Toulouse                         - 😵 no column \"année\"\n📍 Tournon-sur-Rhône                ❌ prec ❌ enso ✅ temp\n📍 Tours                            ✅ prec ✅ enso ✅ temp\n📍 Troyes                           ✅ prec ✅ enso ✅ temp\n📍 Tulle                            - 😵 no column \"année\"\n📍 Ussel                            - 😵 no column \"année\"\n📍 Val de Briey                     - 😵 no table found\n📍 Valence                          - 😵 no #climate tag found\n📍 Valenciennes                     ✅ prec ❌ enso ❌ temp\n📍 Vannes                           ✅ prec ❌ enso ✅ temp\n📍 Vendôme                          ✅ prec ❌ enso ✅ temp\n📍 Verdun                           ✅ prec ❌ enso ✅ temp\n📍 Versailles                       ✅ prec ❌ enso ✅ temp\n📍 Vervins                          ✅ prec ❌ enso ✅ temp\n📍 Vesoul                           ✅ prec ✅ enso ✅ temp\n📍 Vichy                            - 😵 no column \"année\"\n📍 Vienne                           ✅ prec ❌ enso ✅ temp\n📍 Vierzon                          ✅ prec ❌ enso ✅ temp\n📍 Villefranche-de-Rouergue         - 😵 no column \"année\"\n📍 Villefranche-sur-Saône           ✅ prec ❌ enso ✅ temp\n📍 Villeneuve-sur-Lot               - 😵 no column \"année\"\n📍 Vire Normandie                   - 😵 no column \"année\"\n📍 Vitry-le-François                ✅ prec ✅ enso ❌ temp\n📍 Vouziers                         - 😵 no #climate tag found\n📍 Yssingeaux                       ✅ prec ❌ enso ✅ temp\n",
     "output_type": "stream",
     "data": {}
    }
   ],
   "execution_count": 40
  },
  {
   "cell_type": "code",
   "source": "weather_df = pd.DataFrame(weather)\nweather_df.set_index(municipalities.index, inplace=True)\nweather_df.to_csv('data/2-3-weather.csv')",
   "metadata": {
    "tags": [],
    "cell_id": "00012-86280689-b1c6-4608-8aae-f0bb1c3a1ac0",
    "deepnote_to_be_reexecuted": false,
    "source_hash": "c246c1b7",
    "execution_start": 1641122144414,
    "execution_millis": 5,
    "deepnote_output_heights": [
     611
    ],
    "deepnote_cell_type": "code"
   },
   "outputs": [],
   "execution_count": 48
  },
  {
   "cell_type": "markdown",
   "source": "<a style='text-decoration:none;line-height:16px;display:flex;color:#5B5B62;padding:10px;justify-content:end;' href='https://deepnote.com?utm_source=created-in-deepnote-cell&projectId=2f812232-8ed1-4e89-8f48-597e10058637' target=\"_blank\">\n<img alt='Created in deepnote.com' style='display:inline;max-height:16px;margin:0px;margin-right:7.5px;' src='data:image/svg+xml;base64,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' > </img>\nCreated in <span style='font-weight:600;margin-left:4px;'>Deepnote</span></a>",
   "metadata": {
    "tags": [],
    "created_in_deepnote_cell": true,
    "deepnote_cell_type": "markdown"
   }
  }
 ],
 "nbformat": 4,
 "nbformat_minor": 2,
 "metadata": {
  "orig_nbformat": 2,
  "deepnote": {
   "is_reactive": false
  },
  "deepnote_notebook_id": "cf234e65-1ec1-436d-9e68-5bad5118af98",
  "deepnote_execution_queue": []
 }
}