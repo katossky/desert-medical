{
 "cells": [
  {
   "cell_type": "markdown",
   "source": "# Comment expliquer les déserts médicaux?\n\n## 1. Résumé\n\n## 2. Données\n\n### 2.1 Conversion par OCR des temps d'attentes de spécialités médicales depuis le PDF d'un article du journal _Marianne_\n\n### 2.2 Téléchargement des données socio-démographiques depuis insee.fr\n\n### 2.3 Extraction des données météorologiques de Wikipédia\n\n### 2.4 Récupération de données d'attractivité des villes sur villesetvillagesouilfaitbonvivre.com\n\n### 2.5 Difficultés liées à la consolidation des données\n\n## 3. Analyse descriptive\n\n### 3.1 Pas de structure en basse dimension des temps d'attente des différentes spécialités\n\nEn l'absence de structure particulière, et étant limité dans nos efforts d'analyses, nous choisissons par simplification à la section 4 de nous restreindre à l'analyse du **temps d'attente chez le généraliste**.\n\n### 3.2 Pas de motif géographique clair dans les temps d'attente < À CONFIRMER >\n\n### 3.3 < LIAISON ENTRE LES TEMPS D'ATTENTES ET LES AUTRES VARIABLES >\n\n## 4. Modélisation\n\nDans cette section, nous nous restreignons par soucis de simplification à l'analyse du **temps d'attente chez le généraliste**.\n\n### 4.1 < RÉGRESSION >\n\n### 4.2 < CARTE DES RÉSIDUS >\n\n## 5. Démarche scientifique et reproductibilité\n\n## 6. Format du code\n\nLe rapport est accessible [sur Deepnote](https://deepnote.com/project/desert-medical-L4EiMo7RTomPSFl-EAWGNw/%2Freport.ipynb), où il est exécutable. La totalité du code et des données sont par ailleurs disponibles [sur Github](https://github.com/katossky/desert-medical). L'historique des enregistrements (_commits_) est disponible [ici](https://github.com/katossky/desert-medical/commits/main). Il n'y a pas eu lieu, vu la simplicité relative du projet, d'avoir recours à des branches de développement.\n\nLa plupart du code a été reporté en annexe, mais le rapport contient un exemple filé exécutable pour la ville de Poitiers. Le code est abondamment commenté et nous avons porté un soin particulier au choix des noms de variables afin d'en faciliter la lecture.\n\n## 7. Pistes d'amélioration\n\n- Étendre la modélisation à l'ensemble des temps d'attentes, séparément dans un premier temps, puis conjointement.",
   "metadata": {
    "tags": [],
    "cell_id": "00000-54ca9523-c1e4-44ea-a950-4d8f3cb742cd",
    "deepnote_cell_type": "markdown"
   }
  },
  {
   "cell_type": "markdown",
   "source": "",
   "metadata": {
    "tags": [],
    "is_collapsed": false,
    "cell_id": "00001-d1d87e3b-c0f7-4842-ad2d-f3a19d6c9335",
    "deepnote_cell_type": "text-cell-p"
   }
  },
  {
   "cell_type": "markdown",
   "source": "<a style='text-decoration:none;line-height:16px;display:flex;color:#5B5B62;padding:10px;justify-content:end;' href='https://deepnote.com?utm_source=created-in-deepnote-cell&projectId=2f812232-8ed1-4e89-8f48-597e10058637' target=\"_blank\">\n<img alt='Created in deepnote.com' style='display:inline;max-height:16px;margin:0px;margin-right:7.5px;' src='data:image/svg+xml;base64,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' > </img>\nCreated in <span style='font-weight:600;margin-left:4px;'>Deepnote</span></a>",
   "metadata": {
    "tags": [],
    "created_in_deepnote_cell": true,
    "deepnote_cell_type": "markdown"
   }
  }
 ],
 "nbformat": 4,
 "nbformat_minor": 2,
 "metadata": {
  "orig_nbformat": 2,
  "deepnote": {
   "is_reactive": false
  },
  "deepnote_notebook_id": "ead435a4-1833-4cbc-ad8a-91f3342e4e03",
  "deepnote_execution_queue": []
 }
}