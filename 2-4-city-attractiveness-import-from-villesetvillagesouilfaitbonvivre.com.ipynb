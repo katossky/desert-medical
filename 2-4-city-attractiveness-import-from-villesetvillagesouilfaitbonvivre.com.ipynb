{
 "cells": [
  {
   "cell_type": "markdown",
   "source": "# ",
   "metadata": {
    "tags": [],
    "is_collapsed": false,
    "cell_id": "00000-502283de-0a97-431f-b39e-c11c20bc8f25",
    "deepnote_cell_type": "text-cell-h1"
   }
  },
  {
   "cell_type": "markdown",
   "source": "# Importation du rang des communes françaises dans le le classement des villes et villages où il fait bon vivre",
   "metadata": {
    "tags": [],
    "is_collapsed": false,
    "cell_id": "00001-5d6aaf32-748e-4124-b21e-8edb8a866c41",
    "deepnote_cell_type": "text-cell-h1"
   }
  },
  {
   "cell_type": "markdown",
   "source": "L'association des villes et villages où il fait bon vivre publie chaque année, depuis 2017, un classement des 34837 communes de France. Chaque commune dispose d'une page sur le site avec son propre classement. Nous allons donc scrapper le classement et associer chaque ville à son classement.",
   "metadata": {
    "tags": [],
    "is_collapsed": false,
    "cell_id": "00002-47a0eab1-a756-4d3f-8f9e-bca47a372c08",
    "deepnote_cell_type": "text-cell-p"
   }
  },
  {
   "cell_type": "markdown",
   "source": "### On importe les packages et les données nécessaires:",
   "metadata": {
    "tags": [],
    "is_collapsed": false,
    "cell_id": "00003-964f68b9-3ef7-43b8-99d9-876a8d8309a8",
    "deepnote_cell_type": "text-cell-h3"
   }
  },
  {
   "cell_type": "code",
   "metadata": {
    "tags": [],
    "cell_id": "00000-25fbb171-ef27-4b2b-a1f0-621ef69da493",
    "deepnote_to_be_reexecuted": false,
    "source_hash": "4a503a8c",
    "execution_start": 1640957195361,
    "execution_millis": 21009,
    "deepnote_cell_type": "code"
   },
   "source": "import numpy as np\nimport pandas as pd\n!pip install bs4==0.0.1\nimport urllib\nimport bs4\nfrom urllib import request\n\n# On importe les données de l'Insee pour chaque commune car nous aurons besoin du code postale et du code insee.\ndata = pd.read_csv(\"https://www.data.gouv.fr/fr/datasets/r/554590ab-ae62-40ac-8353-ee75162c05ee\", sep=\";\")\n",
   "outputs": [
    {
     "name": "stdout",
     "text": "Collecting bs4==0.0.1\n  Downloading bs4-0.0.1.tar.gz (1.1 kB)\nRequirement already satisfied: beautifulsoup4 in /root/venv/lib/python3.7/site-packages (from bs4==0.0.1) (4.10.0)\nRequirement already satisfied: soupsieve>1.2 in /root/venv/lib/python3.7/site-packages (from beautifulsoup4->bs4==0.0.1) (2.3.1)\nBuilding wheels for collected packages: bs4\n  Building wheel for bs4 (setup.py) ... \u001b[?25ldone\n\u001b[?25h  Created wheel for bs4: filename=bs4-0.0.1-py3-none-any.whl size=1272 sha256=b56d1dc4cba9c9874f83d9a1fdc5f6669a6699efda77e0b83fdb85bd8a8dfa1e\n  Stored in directory: /root/.cache/pip/wheels/0a/9e/ba/20e5bbc1afef3a491f0b3bb74d508f99403aabe76eda2167ca\nSuccessfully built bs4\nInstalling collected packages: bs4\nSuccessfully installed bs4-0.0.1\n\u001b[33mWARNING: You are using pip version 20.1.1; however, version 21.3.1 is available.\nYou should consider upgrading via the '/root/venv/bin/python -m pip install --upgrade pip' command.\u001b[0m\n",
     "output_type": "stream",
     "data": {}
    }
   ],
   "execution_count": 1
  },
  {
   "cell_type": "markdown",
   "source": "### On scrap le classement de chaque commune en changeant l'url à chaque fois ",
   "metadata": {
    "tags": [],
    "is_collapsed": false,
    "cell_id": "00005-c4266685-4600-4781-86c9-0017d347609c",
    "deepnote_cell_type": "text-cell-h3"
   }
  },
  {
   "cell_type": "markdown",
   "source": "Le code étant très long à tourner, nous vous proposons de faire tourner celui-ci pour la commune de Poitiers (voir plus bas)",
   "metadata": {
    "tags": [],
    "is_collapsed": false,
    "cell_id": "00006-5b0c689c-5220-4dc9-ae3d-7bdd44c18394",
    "deepnote_cell_type": "text-cell-p"
   }
  },
  {
   "cell_type": "code",
   "source": "\"\"\"\ndf_classement =pd.DataFrame(columns=['Communes','Classement'])\n# On créer un df vide pour l'instant\n\nfor i in range(data.shape[0]):\n    code_insee=str(data.iat[i,0]) #On récupère le code insee de la commune\n    code_postal=str(data.iat[i,2]) #On récupère le code postal de la commune\n    nom_ville=str(data.iat[i,1]).lower().replace(\" \",\"\") #On passe le nom de la commune en minuscule pour respecter la forme de l'url\n    df_classement.loc[i, 'Communes'] = str(data.iat[i,1])\n    # On change l'url\n    url_classement=\"https://www.villesetvillagesouilfaitbonvivre.com/le-palmares/classement/\"+code_insee+\"/\"+code_postal+\"/\"+nom_ville+\"#city-ranking\"\n    request_text_2 = request.urlopen(url_classement).read()\n    page_2 = bs4.BeautifulSoup(request_text_2, \"lxml\")\n    div_du_classement= list((page_2.find(\"p\",{\"class\":'h1'})).stripped_strings)\n    df_classement.loc[i, 'Classement']=(div_du_classement[0])\n\"\"\"",
   "metadata": {
    "tags": [],
    "cell_id": "00002-a964dcb4-5ff5-48b5-99fa-34923f8d04c4",
    "deepnote_cell_type": "code"
   },
   "outputs": [],
   "execution_count": null
  },
  {
   "cell_type": "markdown",
   "source": "### Exemple de Poitiers:",
   "metadata": {
    "tags": [],
    "is_collapsed": false,
    "cell_id": "00008-ad724255-12a6-4753-a977-b3c065217ed8",
    "deepnote_cell_type": "text-cell-h3"
   }
  },
  {
   "cell_type": "code",
   "source": "ligne_Poitiers = data[data['Nom_commune'].str.contains('POITIERS', regex=False)] #On récupère la ligne du dataframe où se trouve Poitiers\ncode_insee_Poitiers=str(ligne_Poitiers.iat[0,0]) #On récupère le code insee de Poitiers\ncode_postal_Poitiers=str(ligne_Poitiers.iat[0,2]) #On récupère le code postal de Poitiers\n\nurl_classement_Poitiers=\"https://www.villesetvillagesouilfaitbonvivre.com/le-palmares/classement/\"+code_insee_Poitiers+\"/\"+code_postal_Poitiers+\"/\"+\"poitiers\"+\"#city-ranking\"\nrequest_text_Poitiers = request.urlopen(url_classement_Poitiers).read()\npage_Poitiers = bs4.BeautifulSoup(request_text_Poitiers, \"lxml\")\ndiv_du_classement_Poitiers= list((page_Poitiers.find(\"p\",{\"class\":'h1'})).stripped_strings) #On trouve le classement dans la page\nprint(\"Classement de Poitiers est: \"+div_du_classement_Poitiers[0])",
   "metadata": {
    "tags": [],
    "cell_id": "00011-796f868d-70c7-472c-b3c6-624cbae71943",
    "deepnote_to_be_reexecuted": false,
    "source_hash": "91f6346d",
    "execution_start": 1640958225934,
    "execution_millis": 230,
    "deepnote_output_heights": [
     78
    ],
    "deepnote_cell_type": "code"
   },
   "outputs": [
    {
     "name": "stdout",
     "text": "Classement de Poitiers est: 93\n",
     "output_type": "stream",
     "data": {}
    }
   ],
   "execution_count": 15
  },
  {
   "cell_type": "markdown",
   "source": "<a style='text-decoration:none;line-height:16px;display:flex;color:#5B5B62;padding:10px;justify-content:end;' href='https://deepnote.com?utm_source=created-in-deepnote-cell&projectId=2f812232-8ed1-4e89-8f48-597e10058637' target=\"_blank\">\n<img alt='Created in deepnote.com' style='display:inline;max-height:16px;margin:0px;margin-right:7.5px;' src='data:image/svg+xml;base64,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' > </img>\nCreated in <span style='font-weight:600;margin-left:4px;'>Deepnote</span></a>",
   "metadata": {
    "tags": [],
    "created_in_deepnote_cell": true,
    "deepnote_cell_type": "markdown"
   }
  }
 ],
 "nbformat": 4,
 "nbformat_minor": 2,
 "metadata": {
  "orig_nbformat": 2,
  "deepnote": {
   "is_reactive": false
  },
  "deepnote_notebook_id": "613e3bf4-7bae-41b3-ad5f-543b8ab14655",
  "deepnote_execution_queue": []
 }
}